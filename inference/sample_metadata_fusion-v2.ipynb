{
 "cells": [
  {
   "cell_type": "code",
   "execution_count": 1,
   "id": "c1e293cf-465c-4b94-9c85-93ecb12dd745",
   "metadata": {
    "ExecuteTime": {
     "end_time": "2024-11-11T22:18:27.447914Z",
     "start_time": "2024-11-11T22:18:24.247844Z"
    },
    "tags": []
   },
   "outputs": [
    {
     "name": "stderr",
     "output_type": "stream",
     "text": [
      "/Users/jeremycui/Documents/UCB_MIDS/DATASCI207/fungitastic-classification-datasci207-Fall-2025/.dataset_demo_venv/lib/python3.12/site-packages/tqdm/auto.py:21: TqdmWarning: IProgress not found. Please update jupyter and ipywidgets. See https://ipywidgets.readthedocs.io/en/stable/user_install.html\n",
      "  from .autonotebook import tqdm as notebook_tqdm\n"
     ]
    }
   ],
   "source": [
    "import os\n",
    "import timm\n",
    "import torch\n",
    "\n",
    "import numpy as np\n",
    "import pandas as pd\n",
    "\n",
    "from torch.utils.data import DataLoader\n",
    "from sklearn.metrics import f1_score, accuracy_score, top_k_accuracy_score\n",
    "# from fgvc.utils.utils import set_random_seed\n",
    "\n",
    "SEED = 777\n",
    "# set_random_seed(SEED)"
   ]
  },
  {
   "cell_type": "code",
   "execution_count": 2,
   "id": "28bf5b37e196c5e2",
   "metadata": {
    "ExecuteTime": {
     "end_time": "2024-11-11T22:18:27.509085Z",
     "start_time": "2024-11-11T22:18:27.446551Z"
    },
    "collapsed": false
   },
   "outputs": [
    {
     "name": "stdout",
     "output_type": "stream",
     "text": [
      "Device: mps\n"
     ]
    }
   ],
   "source": [
    "if torch.backends.mps.is_available():\n",
    "    device = torch.device(\"mps\")\n",
    "elif torch.cuda.is_available():\n",
    "    device = torch.device(\"cuda\")\n",
    "else:\n",
    "    device = torch.device(\"cpu\")\n",
    "print(f'Device: {device}')"
   ]
  },
  {
   "cell_type": "code",
   "execution_count": 3,
   "id": "bd60efcf-e97c-4657-a576-f5ed1df967b0",
   "metadata": {
    "ExecuteTime": {
     "end_time": "2024-11-11T22:18:27.529017Z",
     "start_time": "2024-11-11T22:18:27.505068Z"
    }
   },
   "outputs": [],
   "source": [
    "%load_ext autoreload\n",
    "%autoreload 2"
   ]
  },
  {
   "cell_type": "markdown",
   "id": "b92b7aab-adbf-473d-ae60-b5707c914528",
   "metadata": {
    "tags": []
   },
   "source": [
    "## Using metadata"
   ]
  },
  {
   "cell_type": "code",
   "execution_count": 7,
   "id": "d45cad42",
   "metadata": {},
   "outputs": [
    {
     "name": "stdout",
     "output_type": "stream",
     "text": [
      "/Users/jeremycui/Documents/UCB_MIDS/DATASCI207/fungitastic-classification-datasci207-Fall-2025/inference\n"
     ]
    }
   ],
   "source": [
    "print(os.getcwd())"
   ]
  },
  {
   "cell_type": "code",
   "execution_count": 8,
   "id": "9784d510-d6a8-4806-a1ca-aac260a2cca8",
   "metadata": {
    "ExecuteTime": {
     "end_time": "2024-11-11T22:18:31.173662Z",
     "start_time": "2024-11-11T22:18:30.908762Z"
    },
    "tags": []
   },
   "outputs": [],
   "source": [
    "train_df = pd.read_csv(\"../dataset/FungiTastic/metadata/FungiTastic-Mini/FungiTastic-Mini-Train.csv\")\n",
    "val_df = pd.read_csv(\"../dataset/FungiTastic/metadata/FungiTastic-Mini/FungiTastic-Mini-ClosedSet-Val.csv\")\n",
    "test_df = pd.read_csv(\"../dataset/FungiTastic/metadata/FungiTastic-Mini/FungiTastic-Mini-ClosedSet-Test.csv\")"
   ]
  },
  {
   "cell_type": "code",
   "execution_count": 9,
   "id": "4d7bb5ee8649c370",
   "metadata": {
    "ExecuteTime": {
     "end_time": "2024-11-11T22:18:32.328094Z",
     "start_time": "2024-11-11T22:18:32.300370Z"
    },
    "collapsed": false
   },
   "outputs": [],
   "source": [
    "test_df = test_df[test_df.habitat != \"masonry\"]"
   ]
  },
  {
   "cell_type": "code",
   "execution_count": 10,
   "id": "f1815512ad885fda",
   "metadata": {
    "ExecuteTime": {
     "end_time": "2024-11-11T22:18:33.505467Z",
     "start_time": "2024-11-11T22:18:33.178730Z"
    },
    "collapsed": false
   },
   "outputs": [
    {
     "ename": "FileNotFoundError",
     "evalue": "[Errno 2] No such file or directory: './FungiTastic-Mini-test-RAW.csv'",
     "output_type": "error",
     "traceback": [
      "\u001b[31m---------------------------------------------------------------------------\u001b[39m",
      "\u001b[31mFileNotFoundError\u001b[39m                         Traceback (most recent call last)",
      "\u001b[36mCell\u001b[39m\u001b[36m \u001b[39m\u001b[32mIn[10]\u001b[39m\u001b[32m, line 1\u001b[39m\n\u001b[32m----> \u001b[39m\u001b[32m1\u001b[39m full_test = \u001b[43mpd\u001b[49m\u001b[43m.\u001b[49m\u001b[43mread_csv\u001b[49m\u001b[43m(\u001b[49m\u001b[33;43m\"\u001b[39;49m\u001b[33;43m./FungiTastic-Mini-test-RAW.csv\u001b[39;49m\u001b[33;43m\"\u001b[39;49m\u001b[43m)\u001b[49m\n\u001b[32m      3\u001b[39m observation_2_class_id = \u001b[38;5;28mdict\u001b[39m(\u001b[38;5;28mzip\u001b[39m(full_test.observationID, full_test.class_id)) \n\u001b[32m      4\u001b[39m test_df[\u001b[33m\"\u001b[39m\u001b[33mcategory_id\u001b[39m\u001b[33m\"\u001b[39m] = test_df.observationID.apply(\u001b[38;5;28;01mlambda\u001b[39;00m obsID: observation_2_class_id[obsID])\n",
      "\u001b[36mFile \u001b[39m\u001b[32m~/Documents/UCB_MIDS/DATASCI207/fungitastic-classification-datasci207-Fall-2025/.dataset_demo_venv/lib/python3.12/site-packages/pandas/io/parsers/readers.py:1026\u001b[39m, in \u001b[36mread_csv\u001b[39m\u001b[34m(filepath_or_buffer, sep, delimiter, header, names, index_col, usecols, dtype, engine, converters, true_values, false_values, skipinitialspace, skiprows, skipfooter, nrows, na_values, keep_default_na, na_filter, verbose, skip_blank_lines, parse_dates, infer_datetime_format, keep_date_col, date_parser, date_format, dayfirst, cache_dates, iterator, chunksize, compression, thousands, decimal, lineterminator, quotechar, quoting, doublequote, escapechar, comment, encoding, encoding_errors, dialect, on_bad_lines, delim_whitespace, low_memory, memory_map, float_precision, storage_options, dtype_backend)\u001b[39m\n\u001b[32m   1013\u001b[39m kwds_defaults = _refine_defaults_read(\n\u001b[32m   1014\u001b[39m     dialect,\n\u001b[32m   1015\u001b[39m     delimiter,\n\u001b[32m   (...)\u001b[39m\u001b[32m   1022\u001b[39m     dtype_backend=dtype_backend,\n\u001b[32m   1023\u001b[39m )\n\u001b[32m   1024\u001b[39m kwds.update(kwds_defaults)\n\u001b[32m-> \u001b[39m\u001b[32m1026\u001b[39m \u001b[38;5;28;01mreturn\u001b[39;00m \u001b[43m_read\u001b[49m\u001b[43m(\u001b[49m\u001b[43mfilepath_or_buffer\u001b[49m\u001b[43m,\u001b[49m\u001b[43m \u001b[49m\u001b[43mkwds\u001b[49m\u001b[43m)\u001b[49m\n",
      "\u001b[36mFile \u001b[39m\u001b[32m~/Documents/UCB_MIDS/DATASCI207/fungitastic-classification-datasci207-Fall-2025/.dataset_demo_venv/lib/python3.12/site-packages/pandas/io/parsers/readers.py:620\u001b[39m, in \u001b[36m_read\u001b[39m\u001b[34m(filepath_or_buffer, kwds)\u001b[39m\n\u001b[32m    617\u001b[39m _validate_names(kwds.get(\u001b[33m\"\u001b[39m\u001b[33mnames\u001b[39m\u001b[33m\"\u001b[39m, \u001b[38;5;28;01mNone\u001b[39;00m))\n\u001b[32m    619\u001b[39m \u001b[38;5;66;03m# Create the parser.\u001b[39;00m\n\u001b[32m--> \u001b[39m\u001b[32m620\u001b[39m parser = \u001b[43mTextFileReader\u001b[49m\u001b[43m(\u001b[49m\u001b[43mfilepath_or_buffer\u001b[49m\u001b[43m,\u001b[49m\u001b[43m \u001b[49m\u001b[43m*\u001b[49m\u001b[43m*\u001b[49m\u001b[43mkwds\u001b[49m\u001b[43m)\u001b[49m\n\u001b[32m    622\u001b[39m \u001b[38;5;28;01mif\u001b[39;00m chunksize \u001b[38;5;129;01mor\u001b[39;00m iterator:\n\u001b[32m    623\u001b[39m     \u001b[38;5;28;01mreturn\u001b[39;00m parser\n",
      "\u001b[36mFile \u001b[39m\u001b[32m~/Documents/UCB_MIDS/DATASCI207/fungitastic-classification-datasci207-Fall-2025/.dataset_demo_venv/lib/python3.12/site-packages/pandas/io/parsers/readers.py:1620\u001b[39m, in \u001b[36mTextFileReader.__init__\u001b[39m\u001b[34m(self, f, engine, **kwds)\u001b[39m\n\u001b[32m   1617\u001b[39m     \u001b[38;5;28mself\u001b[39m.options[\u001b[33m\"\u001b[39m\u001b[33mhas_index_names\u001b[39m\u001b[33m\"\u001b[39m] = kwds[\u001b[33m\"\u001b[39m\u001b[33mhas_index_names\u001b[39m\u001b[33m\"\u001b[39m]\n\u001b[32m   1619\u001b[39m \u001b[38;5;28mself\u001b[39m.handles: IOHandles | \u001b[38;5;28;01mNone\u001b[39;00m = \u001b[38;5;28;01mNone\u001b[39;00m\n\u001b[32m-> \u001b[39m\u001b[32m1620\u001b[39m \u001b[38;5;28mself\u001b[39m._engine = \u001b[38;5;28;43mself\u001b[39;49m\u001b[43m.\u001b[49m\u001b[43m_make_engine\u001b[49m\u001b[43m(\u001b[49m\u001b[43mf\u001b[49m\u001b[43m,\u001b[49m\u001b[43m \u001b[49m\u001b[38;5;28;43mself\u001b[39;49m\u001b[43m.\u001b[49m\u001b[43mengine\u001b[49m\u001b[43m)\u001b[49m\n",
      "\u001b[36mFile \u001b[39m\u001b[32m~/Documents/UCB_MIDS/DATASCI207/fungitastic-classification-datasci207-Fall-2025/.dataset_demo_venv/lib/python3.12/site-packages/pandas/io/parsers/readers.py:1880\u001b[39m, in \u001b[36mTextFileReader._make_engine\u001b[39m\u001b[34m(self, f, engine)\u001b[39m\n\u001b[32m   1878\u001b[39m     \u001b[38;5;28;01mif\u001b[39;00m \u001b[33m\"\u001b[39m\u001b[33mb\u001b[39m\u001b[33m\"\u001b[39m \u001b[38;5;129;01mnot\u001b[39;00m \u001b[38;5;129;01min\u001b[39;00m mode:\n\u001b[32m   1879\u001b[39m         mode += \u001b[33m\"\u001b[39m\u001b[33mb\u001b[39m\u001b[33m\"\u001b[39m\n\u001b[32m-> \u001b[39m\u001b[32m1880\u001b[39m \u001b[38;5;28mself\u001b[39m.handles = \u001b[43mget_handle\u001b[49m\u001b[43m(\u001b[49m\n\u001b[32m   1881\u001b[39m \u001b[43m    \u001b[49m\u001b[43mf\u001b[49m\u001b[43m,\u001b[49m\n\u001b[32m   1882\u001b[39m \u001b[43m    \u001b[49m\u001b[43mmode\u001b[49m\u001b[43m,\u001b[49m\n\u001b[32m   1883\u001b[39m \u001b[43m    \u001b[49m\u001b[43mencoding\u001b[49m\u001b[43m=\u001b[49m\u001b[38;5;28;43mself\u001b[39;49m\u001b[43m.\u001b[49m\u001b[43moptions\u001b[49m\u001b[43m.\u001b[49m\u001b[43mget\u001b[49m\u001b[43m(\u001b[49m\u001b[33;43m\"\u001b[39;49m\u001b[33;43mencoding\u001b[39;49m\u001b[33;43m\"\u001b[39;49m\u001b[43m,\u001b[49m\u001b[43m \u001b[49m\u001b[38;5;28;43;01mNone\u001b[39;49;00m\u001b[43m)\u001b[49m\u001b[43m,\u001b[49m\n\u001b[32m   1884\u001b[39m \u001b[43m    \u001b[49m\u001b[43mcompression\u001b[49m\u001b[43m=\u001b[49m\u001b[38;5;28;43mself\u001b[39;49m\u001b[43m.\u001b[49m\u001b[43moptions\u001b[49m\u001b[43m.\u001b[49m\u001b[43mget\u001b[49m\u001b[43m(\u001b[49m\u001b[33;43m\"\u001b[39;49m\u001b[33;43mcompression\u001b[39;49m\u001b[33;43m\"\u001b[39;49m\u001b[43m,\u001b[49m\u001b[43m \u001b[49m\u001b[38;5;28;43;01mNone\u001b[39;49;00m\u001b[43m)\u001b[49m\u001b[43m,\u001b[49m\n\u001b[32m   1885\u001b[39m \u001b[43m    \u001b[49m\u001b[43mmemory_map\u001b[49m\u001b[43m=\u001b[49m\u001b[38;5;28;43mself\u001b[39;49m\u001b[43m.\u001b[49m\u001b[43moptions\u001b[49m\u001b[43m.\u001b[49m\u001b[43mget\u001b[49m\u001b[43m(\u001b[49m\u001b[33;43m\"\u001b[39;49m\u001b[33;43mmemory_map\u001b[39;49m\u001b[33;43m\"\u001b[39;49m\u001b[43m,\u001b[49m\u001b[43m \u001b[49m\u001b[38;5;28;43;01mFalse\u001b[39;49;00m\u001b[43m)\u001b[49m\u001b[43m,\u001b[49m\n\u001b[32m   1886\u001b[39m \u001b[43m    \u001b[49m\u001b[43mis_text\u001b[49m\u001b[43m=\u001b[49m\u001b[43mis_text\u001b[49m\u001b[43m,\u001b[49m\n\u001b[32m   1887\u001b[39m \u001b[43m    \u001b[49m\u001b[43merrors\u001b[49m\u001b[43m=\u001b[49m\u001b[38;5;28;43mself\u001b[39;49m\u001b[43m.\u001b[49m\u001b[43moptions\u001b[49m\u001b[43m.\u001b[49m\u001b[43mget\u001b[49m\u001b[43m(\u001b[49m\u001b[33;43m\"\u001b[39;49m\u001b[33;43mencoding_errors\u001b[39;49m\u001b[33;43m\"\u001b[39;49m\u001b[43m,\u001b[49m\u001b[43m \u001b[49m\u001b[33;43m\"\u001b[39;49m\u001b[33;43mstrict\u001b[39;49m\u001b[33;43m\"\u001b[39;49m\u001b[43m)\u001b[49m\u001b[43m,\u001b[49m\n\u001b[32m   1888\u001b[39m \u001b[43m    \u001b[49m\u001b[43mstorage_options\u001b[49m\u001b[43m=\u001b[49m\u001b[38;5;28;43mself\u001b[39;49m\u001b[43m.\u001b[49m\u001b[43moptions\u001b[49m\u001b[43m.\u001b[49m\u001b[43mget\u001b[49m\u001b[43m(\u001b[49m\u001b[33;43m\"\u001b[39;49m\u001b[33;43mstorage_options\u001b[39;49m\u001b[33;43m\"\u001b[39;49m\u001b[43m,\u001b[49m\u001b[43m \u001b[49m\u001b[38;5;28;43;01mNone\u001b[39;49;00m\u001b[43m)\u001b[49m\u001b[43m,\u001b[49m\n\u001b[32m   1889\u001b[39m \u001b[43m\u001b[49m\u001b[43m)\u001b[49m\n\u001b[32m   1890\u001b[39m \u001b[38;5;28;01massert\u001b[39;00m \u001b[38;5;28mself\u001b[39m.handles \u001b[38;5;129;01mis\u001b[39;00m \u001b[38;5;129;01mnot\u001b[39;00m \u001b[38;5;28;01mNone\u001b[39;00m\n\u001b[32m   1891\u001b[39m f = \u001b[38;5;28mself\u001b[39m.handles.handle\n",
      "\u001b[36mFile \u001b[39m\u001b[32m~/Documents/UCB_MIDS/DATASCI207/fungitastic-classification-datasci207-Fall-2025/.dataset_demo_venv/lib/python3.12/site-packages/pandas/io/common.py:873\u001b[39m, in \u001b[36mget_handle\u001b[39m\u001b[34m(path_or_buf, mode, encoding, compression, memory_map, is_text, errors, storage_options)\u001b[39m\n\u001b[32m    868\u001b[39m \u001b[38;5;28;01melif\u001b[39;00m \u001b[38;5;28misinstance\u001b[39m(handle, \u001b[38;5;28mstr\u001b[39m):\n\u001b[32m    869\u001b[39m     \u001b[38;5;66;03m# Check whether the filename is to be opened in binary mode.\u001b[39;00m\n\u001b[32m    870\u001b[39m     \u001b[38;5;66;03m# Binary mode does not support 'encoding' and 'newline'.\u001b[39;00m\n\u001b[32m    871\u001b[39m     \u001b[38;5;28;01mif\u001b[39;00m ioargs.encoding \u001b[38;5;129;01mand\u001b[39;00m \u001b[33m\"\u001b[39m\u001b[33mb\u001b[39m\u001b[33m\"\u001b[39m \u001b[38;5;129;01mnot\u001b[39;00m \u001b[38;5;129;01min\u001b[39;00m ioargs.mode:\n\u001b[32m    872\u001b[39m         \u001b[38;5;66;03m# Encoding\u001b[39;00m\n\u001b[32m--> \u001b[39m\u001b[32m873\u001b[39m         handle = \u001b[38;5;28;43mopen\u001b[39;49m\u001b[43m(\u001b[49m\n\u001b[32m    874\u001b[39m \u001b[43m            \u001b[49m\u001b[43mhandle\u001b[49m\u001b[43m,\u001b[49m\n\u001b[32m    875\u001b[39m \u001b[43m            \u001b[49m\u001b[43mioargs\u001b[49m\u001b[43m.\u001b[49m\u001b[43mmode\u001b[49m\u001b[43m,\u001b[49m\n\u001b[32m    876\u001b[39m \u001b[43m            \u001b[49m\u001b[43mencoding\u001b[49m\u001b[43m=\u001b[49m\u001b[43mioargs\u001b[49m\u001b[43m.\u001b[49m\u001b[43mencoding\u001b[49m\u001b[43m,\u001b[49m\n\u001b[32m    877\u001b[39m \u001b[43m            \u001b[49m\u001b[43merrors\u001b[49m\u001b[43m=\u001b[49m\u001b[43merrors\u001b[49m\u001b[43m,\u001b[49m\n\u001b[32m    878\u001b[39m \u001b[43m            \u001b[49m\u001b[43mnewline\u001b[49m\u001b[43m=\u001b[49m\u001b[33;43m\"\u001b[39;49m\u001b[33;43m\"\u001b[39;49m\u001b[43m,\u001b[49m\n\u001b[32m    879\u001b[39m \u001b[43m        \u001b[49m\u001b[43m)\u001b[49m\n\u001b[32m    880\u001b[39m     \u001b[38;5;28;01melse\u001b[39;00m:\n\u001b[32m    881\u001b[39m         \u001b[38;5;66;03m# Binary mode\u001b[39;00m\n\u001b[32m    882\u001b[39m         handle = \u001b[38;5;28mopen\u001b[39m(handle, ioargs.mode)\n",
      "\u001b[31mFileNotFoundError\u001b[39m: [Errno 2] No such file or directory: './FungiTastic-Mini-test-RAW.csv'"
     ]
    }
   ],
   "source": [
    "full_test = pd.read_csv(\"./FungiTastic-Mini-test-RAW.csv\")\n",
    "\n",
    "observation_2_class_id = dict(zip(full_test.observationID, full_test.class_id)) \n",
    "test_df[\"category_id\"] = test_df.observationID.apply(lambda obsID: observation_2_class_id[obsID])"
   ]
  },
  {
   "cell_type": "code",
   "execution_count": 9,
   "id": "01965904-343f-414c-a6bb-2d23cd00ff17",
   "metadata": {
    "ExecuteTime": {
     "end_time": "2024-11-11T22:18:37.709232Z",
     "start_time": "2024-11-11T22:18:37.630094Z"
    },
    "tags": []
   },
   "outputs": [],
   "source": [
    "TRAIN_IMAGE_DIR = \"/Users/lukaspicek/Downloads/images/FungiTastic-Mini/train/500p\"\n",
    "train_df[\"image_path\"] = train_df.filename.apply(\n",
    "    lambda filename: os.path.join(TRAIN_IMAGE_DIR, filename))\n",
    "\n",
    "VAL_IMAGE_DIR = \"/Users/lukaspicek/Downloads/images/FungiTastic-Mini/val/500p\"\n",
    "\n",
    "val_df[\"image_path\"] = val_df.filename.apply(\n",
    "    lambda filename: os.path.join(VAL_IMAGE_DIR, filename))\n",
    "\n",
    "TEST_IMAGE_DIR = \"/Users/lukaspicek/Downloads/images/FungiTastic-Mini/test/500p\"\n",
    "\n",
    "test_df[\"image_path\"] = test_df.filename.apply(\n",
    "    lambda filename: os.path.join(TEST_IMAGE_DIR, filename))"
   ]
  },
  {
   "cell_type": "code",
   "execution_count": 10,
   "id": "20179253-763b-4310-b919-51cfbd86602f",
   "metadata": {
    "ExecuteTime": {
     "end_time": "2024-11-11T22:18:41.322274Z",
     "start_time": "2024-11-11T22:18:41.262781Z"
    }
   },
   "outputs": [
    {
     "data": {
      "text/plain": [
       "(66990, 46842, 9412, 10736)"
      ]
     },
     "execution_count": 10,
     "metadata": {},
     "output_type": "execute_result"
    }
   ],
   "source": [
    "all_metadata = pd.concat([train_df, val_df, test_df])\n",
    "len(all_metadata), len(train_df), len(val_df), len(test_df)"
   ]
  },
  {
   "cell_type": "code",
   "execution_count": 11,
   "id": "73f70220b05fcf16",
   "metadata": {
    "ExecuteTime": {
     "end_time": "2024-11-11T22:18:42.459944Z",
     "start_time": "2024-11-11T22:18:42.387756Z"
    },
    "collapsed": false
   },
   "outputs": [
    {
     "data": {
      "text/html": [
       "<div>\n",
       "<style scoped>\n",
       "    .dataframe tbody tr th:only-of-type {\n",
       "        vertical-align: middle;\n",
       "    }\n",
       "\n",
       "    .dataframe tbody tr th {\n",
       "        vertical-align: top;\n",
       "    }\n",
       "\n",
       "    .dataframe thead th {\n",
       "        text-align: right;\n",
       "    }\n",
       "</style>\n",
       "<table border=\"1\" class=\"dataframe\">\n",
       "  <thead>\n",
       "    <tr style=\"text-align: right;\">\n",
       "      <th></th>\n",
       "      <th>eventDate</th>\n",
       "      <th>year</th>\n",
       "      <th>month</th>\n",
       "      <th>day</th>\n",
       "      <th>habitat</th>\n",
       "      <th>countryCode</th>\n",
       "      <th>scientificName</th>\n",
       "      <th>kingdom</th>\n",
       "      <th>phylum</th>\n",
       "      <th>class</th>\n",
       "      <th>...</th>\n",
       "      <th>region</th>\n",
       "      <th>district</th>\n",
       "      <th>filename</th>\n",
       "      <th>category_id</th>\n",
       "      <th>metaSubstrate</th>\n",
       "      <th>poisonous</th>\n",
       "      <th>elevation</th>\n",
       "      <th>landcover</th>\n",
       "      <th>biogeographicalRegion</th>\n",
       "      <th>image_path</th>\n",
       "    </tr>\n",
       "  </thead>\n",
       "  <tbody>\n",
       "    <tr>\n",
       "      <th>0</th>\n",
       "      <td>2021-02-01</td>\n",
       "      <td>2021</td>\n",
       "      <td>2.0</td>\n",
       "      <td>1.0</td>\n",
       "      <td>Mixed woodland (with coniferous and deciduous ...</td>\n",
       "      <td>DK</td>\n",
       "      <td>Mycena tintinnabulum (Paulet) Quél.</td>\n",
       "      <td>Fungi</td>\n",
       "      <td>Basidiomycota</td>\n",
       "      <td>Agaricomycetes</td>\n",
       "      <td>...</td>\n",
       "      <td>Sjælland</td>\n",
       "      <td>Næstved</td>\n",
       "      <td>0-3032614317.JPG</td>\n",
       "      <td>119</td>\n",
       "      <td>wood</td>\n",
       "      <td>0</td>\n",
       "      <td>35.0</td>\n",
       "      <td>5.0</td>\n",
       "      <td>continental</td>\n",
       "      <td>/Users/lukaspicek/Downloads/images/FungiTastic...</td>\n",
       "    </tr>\n",
       "    <tr>\n",
       "      <th>1</th>\n",
       "      <td>2021-02-01</td>\n",
       "      <td>2021</td>\n",
       "      <td>2.0</td>\n",
       "      <td>1.0</td>\n",
       "      <td>Mixed woodland (with coniferous and deciduous ...</td>\n",
       "      <td>DK</td>\n",
       "      <td>Mycena tintinnabulum (Paulet) Quél.</td>\n",
       "      <td>Fungi</td>\n",
       "      <td>Basidiomycota</td>\n",
       "      <td>Agaricomycetes</td>\n",
       "      <td>...</td>\n",
       "      <td>Sjælland</td>\n",
       "      <td>Næstved</td>\n",
       "      <td>1-3032614317.JPG</td>\n",
       "      <td>119</td>\n",
       "      <td>wood</td>\n",
       "      <td>0</td>\n",
       "      <td>35.0</td>\n",
       "      <td>5.0</td>\n",
       "      <td>continental</td>\n",
       "      <td>/Users/lukaspicek/Downloads/images/FungiTastic...</td>\n",
       "    </tr>\n",
       "    <tr>\n",
       "      <th>2</th>\n",
       "      <td>2008-09-01</td>\n",
       "      <td>2008</td>\n",
       "      <td>9.0</td>\n",
       "      <td>1.0</td>\n",
       "      <td>Deciduous woodland</td>\n",
       "      <td>DK</td>\n",
       "      <td>Russula cyanoxantha (Schaeff.) Fr.</td>\n",
       "      <td>Fungi</td>\n",
       "      <td>Basidiomycota</td>\n",
       "      <td>Agaricomycetes</td>\n",
       "      <td>...</td>\n",
       "      <td>Midtjylland</td>\n",
       "      <td>Århus</td>\n",
       "      <td>0-3036761318.JPG</td>\n",
       "      <td>144</td>\n",
       "      <td>jord</td>\n",
       "      <td>0</td>\n",
       "      <td>6.0</td>\n",
       "      <td>10.0</td>\n",
       "      <td>continental</td>\n",
       "      <td>/Users/lukaspicek/Downloads/images/FungiTastic...</td>\n",
       "    </tr>\n",
       "    <tr>\n",
       "      <th>3</th>\n",
       "      <td>2008-09-01</td>\n",
       "      <td>2008</td>\n",
       "      <td>9.0</td>\n",
       "      <td>1.0</td>\n",
       "      <td>Deciduous woodland</td>\n",
       "      <td>DK</td>\n",
       "      <td>Russula cyanoxantha (Schaeff.) Fr.</td>\n",
       "      <td>Fungi</td>\n",
       "      <td>Basidiomycota</td>\n",
       "      <td>Agaricomycetes</td>\n",
       "      <td>...</td>\n",
       "      <td>Midtjylland</td>\n",
       "      <td>Århus</td>\n",
       "      <td>1-3036761318.JPG</td>\n",
       "      <td>144</td>\n",
       "      <td>jord</td>\n",
       "      <td>0</td>\n",
       "      <td>6.0</td>\n",
       "      <td>10.0</td>\n",
       "      <td>continental</td>\n",
       "      <td>/Users/lukaspicek/Downloads/images/FungiTastic...</td>\n",
       "    </tr>\n",
       "    <tr>\n",
       "      <th>4</th>\n",
       "      <td>2008-09-01</td>\n",
       "      <td>2008</td>\n",
       "      <td>9.0</td>\n",
       "      <td>1.0</td>\n",
       "      <td>Deciduous woodland</td>\n",
       "      <td>DK</td>\n",
       "      <td>Russula cyanoxantha (Schaeff.) Fr.</td>\n",
       "      <td>Fungi</td>\n",
       "      <td>Basidiomycota</td>\n",
       "      <td>Agaricomycetes</td>\n",
       "      <td>...</td>\n",
       "      <td>Midtjylland</td>\n",
       "      <td>Århus</td>\n",
       "      <td>2-3036761318.JPG</td>\n",
       "      <td>144</td>\n",
       "      <td>jord</td>\n",
       "      <td>0</td>\n",
       "      <td>6.0</td>\n",
       "      <td>10.0</td>\n",
       "      <td>continental</td>\n",
       "      <td>/Users/lukaspicek/Downloads/images/FungiTastic...</td>\n",
       "    </tr>\n",
       "    <tr>\n",
       "      <th>...</th>\n",
       "      <td>...</td>\n",
       "      <td>...</td>\n",
       "      <td>...</td>\n",
       "      <td>...</td>\n",
       "      <td>...</td>\n",
       "      <td>...</td>\n",
       "      <td>...</td>\n",
       "      <td>...</td>\n",
       "      <td>...</td>\n",
       "      <td>...</td>\n",
       "      <td>...</td>\n",
       "      <td>...</td>\n",
       "      <td>...</td>\n",
       "      <td>...</td>\n",
       "      <td>...</td>\n",
       "      <td>...</td>\n",
       "      <td>...</td>\n",
       "      <td>...</td>\n",
       "      <td>...</td>\n",
       "      <td>...</td>\n",
       "      <td>...</td>\n",
       "    </tr>\n",
       "    <tr>\n",
       "      <th>46837</th>\n",
       "      <td>2021-09-29</td>\n",
       "      <td>2021</td>\n",
       "      <td>9.0</td>\n",
       "      <td>29.0</td>\n",
       "      <td>Unmanaged deciduous woodland</td>\n",
       "      <td>RU</td>\n",
       "      <td>Mycena rosea Gramberg</td>\n",
       "      <td>Fungi</td>\n",
       "      <td>Basidiomycota</td>\n",
       "      <td>Agaricomycetes</td>\n",
       "      <td>...</td>\n",
       "      <td>Kaluga</td>\n",
       "      <td>Maloyaroslavetskiy rayon</td>\n",
       "      <td>1-3429074356.JPG</td>\n",
       "      <td>109</td>\n",
       "      <td>jord</td>\n",
       "      <td>1</td>\n",
       "      <td>NaN</td>\n",
       "      <td>NaN</td>\n",
       "      <td>boreal</td>\n",
       "      <td>/Users/lukaspicek/Downloads/images/FungiTastic...</td>\n",
       "    </tr>\n",
       "    <tr>\n",
       "      <th>46838</th>\n",
       "      <td>2021-09-29</td>\n",
       "      <td>2021</td>\n",
       "      <td>9.0</td>\n",
       "      <td>29.0</td>\n",
       "      <td>Unmanaged deciduous woodland</td>\n",
       "      <td>RU</td>\n",
       "      <td>Mycena rosea Gramberg</td>\n",
       "      <td>Fungi</td>\n",
       "      <td>Basidiomycota</td>\n",
       "      <td>Agaricomycetes</td>\n",
       "      <td>...</td>\n",
       "      <td>Kaluga</td>\n",
       "      <td>Maloyaroslavetskiy rayon</td>\n",
       "      <td>2-3429074356.JPG</td>\n",
       "      <td>109</td>\n",
       "      <td>jord</td>\n",
       "      <td>1</td>\n",
       "      <td>NaN</td>\n",
       "      <td>NaN</td>\n",
       "      <td>boreal</td>\n",
       "      <td>/Users/lukaspicek/Downloads/images/FungiTastic...</td>\n",
       "    </tr>\n",
       "    <tr>\n",
       "      <th>46839</th>\n",
       "      <td>2021-09-27</td>\n",
       "      <td>2021</td>\n",
       "      <td>9.0</td>\n",
       "      <td>27.0</td>\n",
       "      <td>Deciduous woodland</td>\n",
       "      <td>DK</td>\n",
       "      <td>Russula ochroleuca Fr.</td>\n",
       "      <td>Fungi</td>\n",
       "      <td>Basidiomycota</td>\n",
       "      <td>Agaricomycetes</td>\n",
       "      <td>...</td>\n",
       "      <td>Hovedstaden</td>\n",
       "      <td>Halsnæs</td>\n",
       "      <td>0-4100099773.JPG</td>\n",
       "      <td>179</td>\n",
       "      <td>jord</td>\n",
       "      <td>0</td>\n",
       "      <td>0.0</td>\n",
       "      <td>17.0</td>\n",
       "      <td>continental</td>\n",
       "      <td>/Users/lukaspicek/Downloads/images/FungiTastic...</td>\n",
       "    </tr>\n",
       "    <tr>\n",
       "      <th>46840</th>\n",
       "      <td>2021-09-27</td>\n",
       "      <td>2021</td>\n",
       "      <td>9.0</td>\n",
       "      <td>27.0</td>\n",
       "      <td>Deciduous woodland</td>\n",
       "      <td>DK</td>\n",
       "      <td>Russula ochroleuca Fr.</td>\n",
       "      <td>Fungi</td>\n",
       "      <td>Basidiomycota</td>\n",
       "      <td>Agaricomycetes</td>\n",
       "      <td>...</td>\n",
       "      <td>Hovedstaden</td>\n",
       "      <td>Halsnæs</td>\n",
       "      <td>1-4100099773.JPG</td>\n",
       "      <td>179</td>\n",
       "      <td>jord</td>\n",
       "      <td>0</td>\n",
       "      <td>0.0</td>\n",
       "      <td>17.0</td>\n",
       "      <td>continental</td>\n",
       "      <td>/Users/lukaspicek/Downloads/images/FungiTastic...</td>\n",
       "    </tr>\n",
       "    <tr>\n",
       "      <th>46841</th>\n",
       "      <td>1984-09-15</td>\n",
       "      <td>1984</td>\n",
       "      <td>9.0</td>\n",
       "      <td>15.0</td>\n",
       "      <td>Deciduous woodland</td>\n",
       "      <td>DK</td>\n",
       "      <td>Amanita pantherina (DC.) Krombh.</td>\n",
       "      <td>Fungi</td>\n",
       "      <td>Basidiomycota</td>\n",
       "      <td>Agaricomycetes</td>\n",
       "      <td>...</td>\n",
       "      <td>Hovedstaden</td>\n",
       "      <td>Rudersdal</td>\n",
       "      <td>0-4847339022.JPG</td>\n",
       "      <td>35</td>\n",
       "      <td>jord</td>\n",
       "      <td>1</td>\n",
       "      <td>70.0</td>\n",
       "      <td>5.0</td>\n",
       "      <td>continental</td>\n",
       "      <td>/Users/lukaspicek/Downloads/images/FungiTastic...</td>\n",
       "    </tr>\n",
       "  </tbody>\n",
       "</table>\n",
       "<p>46842 rows × 32 columns</p>\n",
       "</div>"
      ],
      "text/plain": [
       "        eventDate  year  month   day  \\\n",
       "0      2021-02-01  2021    2.0   1.0   \n",
       "1      2021-02-01  2021    2.0   1.0   \n",
       "2      2008-09-01  2008    9.0   1.0   \n",
       "3      2008-09-01  2008    9.0   1.0   \n",
       "4      2008-09-01  2008    9.0   1.0   \n",
       "...           ...   ...    ...   ...   \n",
       "46837  2021-09-29  2021    9.0  29.0   \n",
       "46838  2021-09-29  2021    9.0  29.0   \n",
       "46839  2021-09-27  2021    9.0  27.0   \n",
       "46840  2021-09-27  2021    9.0  27.0   \n",
       "46841  1984-09-15  1984    9.0  15.0   \n",
       "\n",
       "                                                 habitat countryCode  \\\n",
       "0      Mixed woodland (with coniferous and deciduous ...          DK   \n",
       "1      Mixed woodland (with coniferous and deciduous ...          DK   \n",
       "2                                     Deciduous woodland          DK   \n",
       "3                                     Deciduous woodland          DK   \n",
       "4                                     Deciduous woodland          DK   \n",
       "...                                                  ...         ...   \n",
       "46837                       Unmanaged deciduous woodland          RU   \n",
       "46838                       Unmanaged deciduous woodland          RU   \n",
       "46839                                 Deciduous woodland          DK   \n",
       "46840                                 Deciduous woodland          DK   \n",
       "46841                                 Deciduous woodland          DK   \n",
       "\n",
       "                            scientificName kingdom         phylum  \\\n",
       "0      Mycena tintinnabulum (Paulet) Quél.   Fungi  Basidiomycota   \n",
       "1      Mycena tintinnabulum (Paulet) Quél.   Fungi  Basidiomycota   \n",
       "2       Russula cyanoxantha (Schaeff.) Fr.   Fungi  Basidiomycota   \n",
       "3       Russula cyanoxantha (Schaeff.) Fr.   Fungi  Basidiomycota   \n",
       "4       Russula cyanoxantha (Schaeff.) Fr.   Fungi  Basidiomycota   \n",
       "...                                    ...     ...            ...   \n",
       "46837                Mycena rosea Gramberg   Fungi  Basidiomycota   \n",
       "46838                Mycena rosea Gramberg   Fungi  Basidiomycota   \n",
       "46839               Russula ochroleuca Fr.   Fungi  Basidiomycota   \n",
       "46840               Russula ochroleuca Fr.   Fungi  Basidiomycota   \n",
       "46841     Amanita pantherina (DC.) Krombh.   Fungi  Basidiomycota   \n",
       "\n",
       "                class  ...       region                  district  \\\n",
       "0      Agaricomycetes  ...     Sjælland                   Næstved   \n",
       "1      Agaricomycetes  ...     Sjælland                   Næstved   \n",
       "2      Agaricomycetes  ...  Midtjylland                     Århus   \n",
       "3      Agaricomycetes  ...  Midtjylland                     Århus   \n",
       "4      Agaricomycetes  ...  Midtjylland                     Århus   \n",
       "...               ...  ...          ...                       ...   \n",
       "46837  Agaricomycetes  ...       Kaluga  Maloyaroslavetskiy rayon   \n",
       "46838  Agaricomycetes  ...       Kaluga  Maloyaroslavetskiy rayon   \n",
       "46839  Agaricomycetes  ...  Hovedstaden                   Halsnæs   \n",
       "46840  Agaricomycetes  ...  Hovedstaden                   Halsnæs   \n",
       "46841  Agaricomycetes  ...  Hovedstaden                 Rudersdal   \n",
       "\n",
       "               filename category_id  metaSubstrate poisonous elevation  \\\n",
       "0      0-3032614317.JPG         119           wood         0      35.0   \n",
       "1      1-3032614317.JPG         119           wood         0      35.0   \n",
       "2      0-3036761318.JPG         144           jord         0       6.0   \n",
       "3      1-3036761318.JPG         144           jord         0       6.0   \n",
       "4      2-3036761318.JPG         144           jord         0       6.0   \n",
       "...                 ...         ...            ...       ...       ...   \n",
       "46837  1-3429074356.JPG         109           jord         1       NaN   \n",
       "46838  2-3429074356.JPG         109           jord         1       NaN   \n",
       "46839  0-4100099773.JPG         179           jord         0       0.0   \n",
       "46840  1-4100099773.JPG         179           jord         0       0.0   \n",
       "46841  0-4847339022.JPG          35           jord         1      70.0   \n",
       "\n",
       "      landcover  biogeographicalRegion  \\\n",
       "0           5.0            continental   \n",
       "1           5.0            continental   \n",
       "2          10.0            continental   \n",
       "3          10.0            continental   \n",
       "4          10.0            continental   \n",
       "...         ...                    ...   \n",
       "46837       NaN                 boreal   \n",
       "46838       NaN                 boreal   \n",
       "46839      17.0            continental   \n",
       "46840      17.0            continental   \n",
       "46841       5.0            continental   \n",
       "\n",
       "                                              image_path  \n",
       "0      /Users/lukaspicek/Downloads/images/FungiTastic...  \n",
       "1      /Users/lukaspicek/Downloads/images/FungiTastic...  \n",
       "2      /Users/lukaspicek/Downloads/images/FungiTastic...  \n",
       "3      /Users/lukaspicek/Downloads/images/FungiTastic...  \n",
       "4      /Users/lukaspicek/Downloads/images/FungiTastic...  \n",
       "...                                                  ...  \n",
       "46837  /Users/lukaspicek/Downloads/images/FungiTastic...  \n",
       "46838  /Users/lukaspicek/Downloads/images/FungiTastic...  \n",
       "46839  /Users/lukaspicek/Downloads/images/FungiTastic...  \n",
       "46840  /Users/lukaspicek/Downloads/images/FungiTastic...  \n",
       "46841  /Users/lukaspicek/Downloads/images/FungiTastic...  \n",
       "\n",
       "[46842 rows x 32 columns]"
      ]
     },
     "execution_count": 11,
     "metadata": {},
     "output_type": "execute_result"
    }
   ],
   "source": [
    "train_df"
   ]
  },
  {
   "cell_type": "code",
   "execution_count": 12,
   "id": "53857034-a655-4aea-8fb0-10fc7126c025",
   "metadata": {
    "ExecuteTime": {
     "end_time": "2024-11-11T22:18:45.488409Z",
     "start_time": "2024-11-11T22:18:45.414075Z"
    }
   },
   "outputs": [],
   "source": [
    "from sklearn import preprocessing\n",
    "\n",
    "label_encoders = {}\n",
    "columns_to_be_encoded = [\"habitat\", \"substrate\", \"biogeographicalRegion\", \"metaSubstrate\"]\n",
    "\n",
    "for column_name in columns_to_be_encoded:\n",
    "    le = preprocessing.LabelEncoder()\n",
    "    le.fit(all_metadata[column_name].unique())\n",
    "    label_encoders = {column_name: le}\n",
    "\n",
    "    train_df[column_name] = le.transform(train_df[column_name]).astype(np.int64)\n",
    "    val_df[column_name] = le.transform(val_df[column_name]).astype(np.int64)\n",
    "    test_df[column_name] = le.transform(test_df[column_name]).astype(np.int64)"
   ]
  },
  {
   "cell_type": "code",
   "execution_count": 29,
   "id": "cb3cd4f477166f0b",
   "metadata": {
    "ExecuteTime": {
     "end_time": "2024-11-11T22:10:02.447263Z",
     "start_time": "2024-11-11T22:10:02.401740Z"
    },
    "collapsed": false
   },
   "outputs": [
    {
     "data": {
      "text/plain": [
       "(30, 29, 29)"
      ]
     },
     "execution_count": 29,
     "metadata": {},
     "output_type": "execute_result"
    }
   ],
   "source": [
    "d"
   ]
  },
  {
   "cell_type": "code",
   "execution_count": 13,
   "id": "3cb9b87a762d3321",
   "metadata": {
    "ExecuteTime": {
     "end_time": "2024-11-11T22:19:00.716836Z",
     "start_time": "2024-11-11T22:19:00.691501Z"
    },
    "collapsed": false
   },
   "outputs": [],
   "source": [
    "metadata = pd.concat([train_df])\n",
    "test_df = test_df\n",
    "# metadata = metadata.drop_duplicates(subset=\"observationID\").reset_index(drop=True)"
   ]
  },
  {
   "cell_type": "markdown",
   "id": "6edc81c6-4a02-4265-b511-10b563d1541d",
   "metadata": {},
   "source": [
    "# Calculating prios"
   ]
  },
  {
   "cell_type": "code",
   "execution_count": 14,
   "id": "86453c2d-c982-42ea-a1f2-6616e58f073d",
   "metadata": {
    "ExecuteTime": {
     "end_time": "2024-11-11T22:19:03.623839Z",
     "start_time": "2024-11-11T22:19:03.558451Z"
    }
   },
   "outputs": [
    {
     "data": {
      "text/plain": [
       "1.0000000000000002"
      ]
     },
     "execution_count": 14,
     "metadata": {},
     "output_type": "execute_result"
    }
   ],
   "source": [
    "TARGET_FEATURE = \"category_id\"\n",
    "\n",
    "metadata = metadata.drop_duplicates(subset=\"observationID\")\n",
    "\n",
    "cls_counts = metadata.groupby(TARGET_FEATURE).size()\n",
    "class_distribution = cls_counts / len(metadata)\n",
    "sum(class_distribution)"
   ]
  },
  {
   "cell_type": "markdown",
   "id": "dd79a272-2db3-4245-bf2c-f41baa52cbef",
   "metadata": {},
   "source": [
    "## Calculate Distributions of Selected Features"
   ]
  },
  {
   "cell_type": "code",
   "execution_count": 15,
   "id": "15f5a032-bc52-42f1-ba52-1a481e65972a",
   "metadata": {
    "ExecuteTime": {
     "end_time": "2024-11-11T22:19:09.033654Z",
     "start_time": "2024-11-11T22:19:08.461210Z"
    },
    "tags": []
   },
   "outputs": [
    {
     "name": "stderr",
     "output_type": "stream",
     "text": [
      "INFO:albumentations.check_version:A new version of Albumentations is available: 1.4.21 (you have 1.4.13). Upgrade using: pip install -U albumentations. To disable automatic update checks, set the environment variable NO_ALBUMENTATIONS_UPDATE to 1.\n"
     ]
    }
   ],
   "source": [
    "from utils.matadata_processing import get_target_to_feature_conditional_distributions\n",
    "\n",
    "SELECTED_FEATURES = [\"month\", \"habitat\", \"substrate\", \"biogeographicalRegion\", \"metaSubstrate\"]\n",
    "\n",
    "# test_df = test_df[~test_df[SELECTED_FEATURES].isna().any(axis=1)]\n",
    "\n",
    "metadata_distributions = {}\n",
    "for feature in SELECTED_FEATURES:\n",
    "    metadata_distributions[feature] = get_target_to_feature_conditional_distributions(\n",
    "        metadata,\n",
    "        feature,\n",
    "        TARGET_FEATURE,\n",
    "        add_to_missing=False\n",
    "    )"
   ]
  },
  {
   "cell_type": "markdown",
   "id": "e139f486-6a29-46c2-9757-fbaca96dd24d",
   "metadata": {},
   "source": [
    "# Predictions"
   ]
  },
  {
   "cell_type": "markdown",
   "id": "7931d356-0161-49b9-a252-22d9964b7ce4",
   "metadata": {},
   "source": [
    "## 1. Loading model from HuggingFace hub ⏳"
   ]
  },
  {
   "cell_type": "code",
   "execution_count": 16,
   "id": "7fd9594b-efc2-4f65-815b-fa10d3249e84",
   "metadata": {
    "ExecuteTime": {
     "end_time": "2024-11-11T22:19:15.457215Z",
     "start_time": "2024-11-11T22:19:14.163727Z"
    },
    "scrolled": true
   },
   "outputs": [
    {
     "name": "stderr",
     "output_type": "stream",
     "text": [
      "INFO:timm.models._builder:Loading pretrained weights from Hugging Face hub (BVRA/tf_efficientnet_b3.in1k_ft_df24m_384)\n",
      "/opt/homebrew/Caskroom/miniforge/base/lib/python3.9/site-packages/timm/models/_hub.py:190: FutureWarning: You are using `torch.load` with `weights_only=False` (the current default value), which uses the default pickle module implicitly. It is possible to construct malicious pickle data which will execute arbitrary code during unpickling (See https://github.com/pytorch/pytorch/blob/main/SECURITY.md#untrusted-models for more details). In a future release, the default value for `weights_only` will be flipped to `True`. This limits the functions that could be executed during unpickling. Arbitrary objects will no longer be allowed to be loaded via this mode unless they are explicitly allowlisted by the user via `torch.serialization.add_safe_globals`. We recommend you start setting `weights_only=True` for any use case where you don't have full control of the loaded file. Please open an issue on GitHub for any issues related to this experimental feature.\n",
      "  return torch.load(cached_file, map_location='cpu')\n"
     ]
    },
    {
     "name": "stdout",
     "output_type": "stream",
     "text": [
      "[0.5, 0.5, 0.5] [0.5, 0.5, 0.5]\n",
      "Done. mps\n"
     ]
    }
   ],
   "source": [
    "N_CLASSES = len(metadata[TARGET_FEATURE].unique())\n",
    "IMAGE_SIZE = [384, 384]\n",
    "\n",
    "MODEL_NAME = \"BVRA/tf_efficientnet_b3.in1k_ft_df24m_384\"\n",
    "\n",
    "USE_CALIBRATION = True\n",
    "USE_OBSERVATION_PREDS = False\n",
    "\n",
    "model = timm.create_model(f\"hf-hub:{MODEL_NAME}\", pretrained=True)\n",
    "model = model.eval()\n",
    "\n",
    "# model_mean = list(model.default_cfg['mean'])\n",
    "# model_std = list(model.default_cfg['std'])\n",
    "# print(model_mean, model_std)\n",
    "model_mean = [0.5, 0.5, 0.5]\n",
    "model_std = [0.5, 0.5, 0.5]\n",
    "\n",
    "print(model_mean, model_std)\n",
    "\n",
    "model.to(device)\n",
    "model.eval()\n",
    "print(f\"Done. {device}\")"
   ]
  },
  {
   "cell_type": "code",
   "execution_count": 17,
   "id": "a5364f28-94a5-4ba4-a302-ef73efc9306e",
   "metadata": {
    "ExecuteTime": {
     "end_time": "2024-11-11T22:19:15.760453Z",
     "start_time": "2024-11-11T22:19:15.441551Z"
    }
   },
   "outputs": [],
   "source": [
    "from fgvc.special.calibration import ModelWithTemperature, get_temperature\n",
    "\n",
    "if USE_CALIBRATION:\n",
    "    model = ModelWithTemperature(model)\n",
    "    model.to(device)"
   ]
  },
  {
   "cell_type": "markdown",
   "id": "311b9f58-49d9-40cd-8c29-0a136051be56",
   "metadata": {},
   "source": [
    "## 2. Prepare Dataloader"
   ]
  },
  {
   "cell_type": "code",
   "execution_count": 18,
   "id": "66398181-d466-4e60-986a-86a140be01d8",
   "metadata": {
    "ExecuteTime": {
     "end_time": "2024-11-11T22:19:17.607393Z",
     "start_time": "2024-11-11T22:19:17.563203Z"
    }
   },
   "outputs": [],
   "source": [
    "from utils.DanishFungiDataset import DanishFungiDataset, get_transforms\n",
    "\n",
    "test_dataset = DanishFungiDataset(\n",
    "    test_df,\n",
    "    image_path_feature='image_path',\n",
    "    target_feature=TARGET_FEATURE,\n",
    "    extra_features=[*SELECTED_FEATURES, \"observationID\"], \n",
    "    transform=get_transforms(model_mean, model_std, IMAGE_SIZE)\n",
    ")"
   ]
  },
  {
   "cell_type": "code",
   "execution_count": 19,
   "id": "d1b84de4-6636-433c-af1f-d6f714af4a23",
   "metadata": {
    "ExecuteTime": {
     "end_time": "2024-11-11T22:19:17.923729Z",
     "start_time": "2024-11-11T22:19:17.876695Z"
    }
   },
   "outputs": [],
   "source": [
    "batch_size = 64\n",
    "\n",
    "test_loader = DataLoader(test_dataset, batch_size=batch_size, shuffle=False, num_workers=8)"
   ]
  },
  {
   "cell_type": "markdown",
   "id": "28b2299f-52a7-4ace-afd8-366c49b466e3",
   "metadata": {
    "tags": []
   },
   "source": [
    "## Inference with pre-trained model"
   ]
  },
  {
   "cell_type": "code",
   "execution_count": 20,
   "id": "29a61348-5559-47fe-9d22-33dee32c4ec0",
   "metadata": {
    "ExecuteTime": {
     "end_time": "2024-11-11T22:22:46.450201Z",
     "start_time": "2024-11-11T22:19:19.549821Z"
    }
   },
   "outputs": [
    {
     "name": "stderr",
     "output_type": "stream",
     "text": [
      "  0%|          | 0/168 [00:00<?, ?it/s]INFO:albumentations.check_version:A new version of Albumentations is available: 1.4.21 (you have 1.4.13). Upgrade using: pip install -U albumentations. To disable automatic update checks, set the environment variable NO_ALBUMENTATIONS_UPDATE to 1.\n",
      "INFO:albumentations.check_version:A new version of Albumentations is available: 1.4.21 (you have 1.4.13). Upgrade using: pip install -U albumentations. To disable automatic update checks, set the environment variable NO_ALBUMENTATIONS_UPDATE to 1.\n",
      "INFO:albumentations.check_version:A new version of Albumentations is available: 1.4.21 (you have 1.4.13). Upgrade using: pip install -U albumentations. To disable automatic update checks, set the environment variable NO_ALBUMENTATIONS_UPDATE to 1.\n",
      "INFO:albumentations.check_version:A new version of Albumentations is available: 1.4.21 (you have 1.4.13). Upgrade using: pip install -U albumentations. To disable automatic update checks, set the environment variable NO_ALBUMENTATIONS_UPDATE to 1.\n",
      "INFO:albumentations.check_version:A new version of Albumentations is available: 1.4.21 (you have 1.4.13). Upgrade using: pip install -U albumentations. To disable automatic update checks, set the environment variable NO_ALBUMENTATIONS_UPDATE to 1.\n",
      "INFO:albumentations.check_version:A new version of Albumentations is available: 1.4.21 (you have 1.4.13). Upgrade using: pip install -U albumentations. To disable automatic update checks, set the environment variable NO_ALBUMENTATIONS_UPDATE to 1.\n",
      "INFO:albumentations.check_version:A new version of Albumentations is available: 1.4.21 (you have 1.4.13). Upgrade using: pip install -U albumentations. To disable automatic update checks, set the environment variable NO_ALBUMENTATIONS_UPDATE to 1.\n",
      "INFO:albumentations.check_version:A new version of Albumentations is available: 1.4.21 (you have 1.4.13). Upgrade using: pip install -U albumentations. To disable automatic update checks, set the environment variable NO_ALBUMENTATIONS_UPDATE to 1.\n",
      " 88%|████████▊ | 148/168 [02:29<00:16,  1.22it/s]Premature end of JPEG file\n",
      "100%|██████████| 168/168 [03:26<00:00,  1.23s/it]"
     ]
    },
    {
     "name": "stdout",
     "output_type": "stream",
     "text": [
      "Vanilla: 0.4054764361151385 0.6752980625931445\n"
     ]
    },
    {
     "name": "stderr",
     "output_type": "stream",
     "text": [
      "\n"
     ]
    }
   ],
   "source": [
    "from utils.matadata_processing import predict_with_features\n",
    "\n",
    "preds, preds_raw, GT_lbls, seen_features = predict_with_features(model, test_loader, device)\n",
    "\n",
    "vanilla_f1 = f1_score(test_df[TARGET_FEATURE], preds, average='macro')\n",
    "vanilla_accuracy = accuracy_score(test_df[TARGET_FEATURE], preds)\n",
    "print('Vanilla:', vanilla_f1, vanilla_accuracy)\n",
    "# vanilla_recall_3 = top_k_accuracy_score(test_df[TARGET_FEATURE], preds_raw, k=3)\n",
    "# vanilla_recall_5 = top_k_accuracy_score(test_df[TARGET_FEATURE], preds_raw, k=5)\n",
    "# vanilla_recall_10 = top_k_accuracy_score(test_df[TARGET_FEATURE], preds_raw, k=10)\n",
    "\n",
    "# print('Vanilla:', vanilla_f1, vanilla_accuracy, vanilla_recall_3, vanilla_recall_5, vanilla_recall_10)"
   ]
  },
  {
   "cell_type": "markdown",
   "id": "3bebfb3e98646220",
   "metadata": {
    "collapsed": false
   },
   "source": [
    "### Average image predictions to get an observation prediction"
   ]
  },
  {
   "cell_type": "code",
   "execution_count": 21,
   "id": "923847f4-200e-44f6-922c-11d5e2736518",
   "metadata": {
    "ExecuteTime": {
     "end_time": "2024-11-11T22:22:46.629903Z",
     "start_time": "2024-11-11T22:22:46.440726Z"
    },
    "tags": []
   },
   "outputs": [
    {
     "name": "stdout",
     "output_type": "stream",
     "text": [
      "ObservationID: 0.5339519283417108 0.7779433681073026\n"
     ]
    }
   ],
   "source": [
    "seen_observation_ids = np.array(seen_features[\"observationID\"])\n",
    "unique_observation_ids = np.unique(seen_observation_ids)\n",
    "\n",
    "preds_raw_np = np.array(preds_raw)\n",
    "\n",
    "obs_preds_raw = np.zeros((len(test_df), N_CLASSES))\n",
    "obs_preds = np.zeros((len(test_df)))\n",
    "\n",
    "for unique_observation_id in unique_observation_ids:\n",
    "    same_observation_indexes = np.where(seen_observation_ids == unique_observation_id)\n",
    "    \n",
    "    observation_predictions = preds_raw_np[same_observation_indexes]\n",
    "    _obs_preds = np.average(observation_predictions, axis=0)\n",
    "    obs_preds_raw[same_observation_indexes] = _obs_preds\n",
    "    obs_preds[same_observation_indexes] = _obs_preds.argmax()\n",
    "    \n",
    "obs_f1 = f1_score(test_df[TARGET_FEATURE], obs_preds, average='macro')\n",
    "obs_accuracy = accuracy_score(test_df[TARGET_FEATURE], obs_preds)\n",
    "# obs_recall_3 = top_k_accuracy_score(test_df[TARGET_FEATURE], obs_preds_raw, k=3)\n",
    "\n",
    "# print('ObservationID:', obs_f1, obs_accuracy, obs_recall_3)\n",
    "print('ObservationID:', obs_f1, obs_accuracy)\n",
    "\n",
    "if USE_OBSERVATION_PREDS:\n",
    "    vanilla_f1 = obs_f1\n",
    "    vanilla_accuracy = obs_accuracy\n",
    "    # vanilla_recall_3 = obs_recall_3\n",
    "    preds_raw = obs_preds_raw\n"
   ]
  },
  {
   "cell_type": "markdown",
   "id": "91e35c4f-787b-4fcd-868b-ec6e2aa483da",
   "metadata": {},
   "source": [
    "## Weighting by each Selected Feature"
   ]
  },
  {
   "cell_type": "code",
   "execution_count": 25,
   "id": "39b4c66f-7c51-417d-80ee-4aab02f8fdc9",
   "metadata": {
    "ExecuteTime": {
     "end_time": "2024-11-11T22:24:54.131323Z",
     "start_time": "2024-11-11T22:24:33.221917Z"
    },
    "tags": []
   },
   "outputs": [
    {
     "name": "stderr",
     "output_type": "stream",
     "text": [
      "100%|██████████| 10736/10736 [00:04<00:00, 2638.03it/s]\n"
     ]
    },
    {
     "name": "stdout",
     "output_type": "stream",
     "text": [
      "month: 0.42403487109197435 0.6831222056631893\n",
      "month dif: 0.019 0.78\n"
     ]
    },
    {
     "name": "stderr",
     "output_type": "stream",
     "text": [
      "100%|██████████| 10736/10736 [00:04<00:00, 2424.55it/s]\n"
     ]
    },
    {
     "name": "stdout",
     "output_type": "stream",
     "text": [
      "habitat: 0.4248839336406116 0.6769746646795827\n",
      "habitat dif: 0.019 0.17\n"
     ]
    },
    {
     "name": "stderr",
     "output_type": "stream",
     "text": [
      "100%|██████████| 10736/10736 [00:03<00:00, 2777.73it/s]\n"
     ]
    },
    {
     "name": "stdout",
     "output_type": "stream",
     "text": [
      "substrate: 0.42067831323161364 0.6820044709388972\n",
      "substrate dif: 0.015 0.67\n"
     ]
    },
    {
     "name": "stderr",
     "output_type": "stream",
     "text": [
      "100%|██████████| 10736/10736 [00:04<00:00, 2385.05it/s]\n"
     ]
    },
    {
     "name": "stdout",
     "output_type": "stream",
     "text": [
      "biogeographicalRegion: 0.404321706657905 0.6748323397913562\n",
      "biogeographicalRegion dif: -0.001 -0.05\n"
     ]
    },
    {
     "name": "stderr",
     "output_type": "stream",
     "text": [
      "100%|██████████| 10736/10736 [00:03<00:00, 2823.68it/s]\n"
     ]
    },
    {
     "name": "stdout",
     "output_type": "stream",
     "text": [
      "metaSubstrate: 0.41766837453289574 0.680327868852459\n",
      "metaSubstrate dif: 0.012 0.5\n"
     ]
    }
   ],
   "source": [
    "from utils.matadata_processing  import weight_predictions_by_feature_distribution\n",
    "\n",
    "def post_process_selected_features(metadata_distributions, class_distribution, raw_predictions, ground_truth_labels):\n",
    "    feature_prior_ratios = {}\n",
    "    metrics_by_features = {}\n",
    "    for feature in SELECTED_FEATURES:\n",
    "        metadata_distribution = metadata_distributions[feature]\n",
    "        seen_feature_values = seen_features[feature]\n",
    "\n",
    "        weighted_predictions, weighted_predictions_raw, feature_prior_ratio = weight_predictions_by_feature_distribution(\n",
    "            target_to_feature_conditional_distributions=metadata_distribution,\n",
    "            target_distribution=class_distribution,\n",
    "            ground_truth_labels=ground_truth_labels,\n",
    "            raw_predictions=raw_predictions,\n",
    "            ground_truth_feature_categories=seen_feature_values\n",
    "        )\n",
    "        feature_prior_ratios[feature] = feature_prior_ratio\n",
    "\n",
    "        f1 = f1_score(test_df[TARGET_FEATURE], weighted_predictions, average='macro')\n",
    "        accuracy = accuracy_score(test_df[TARGET_FEATURE], weighted_predictions)\n",
    "        # recall_3 = top_k_accuracy_score(test_df[TARGET_FEATURE], weighted_predictions_raw, k=3)\n",
    "        metrics_by_features[feature] = {\n",
    "            \"f1\": f1,\n",
    "            \"accuracy\": accuracy,\n",
    "            # \"recall_3\": recall_3\n",
    "        }\n",
    "        print(f'{feature}:', f1, accuracy)\n",
    "        # print(f'{feature}:', f1, accuracy, recall_3)\n",
    "\n",
    "        # print(f'{feature} dif:', np.around(f1-vanilla_f1, 3), np.around((accuracy-vanilla_accuracy) * 100, 2), np.around((recall_3-vanilla_recall_3)*100))\n",
    "        print(f'{feature} dif:', np.around(f1-vanilla_f1, 3), np.around((accuracy-vanilla_accuracy) * 100, 2))\n",
    "\n",
    "    \n",
    "    return feature_prior_ratios, metrics_by_features\n",
    "        \n",
    "feature_prior_ratios, metrics_by_features = post_process_selected_features(\n",
    "    metadata_distributions=metadata_distributions,\n",
    "    class_distribution=class_distribution,\n",
    "    raw_predictions=preds_raw,\n",
    "    ground_truth_labels=GT_lbls\n",
    ")"
   ]
  },
  {
   "cell_type": "markdown",
   "id": "97662dea-8eb6-4bd2-8372-d247ecdbcf5a",
   "metadata": {},
   "source": [
    "## Weighting by Combinations of Selected Features"
   ]
  },
  {
   "cell_type": "code",
   "execution_count": 26,
   "id": "a71b7a56-6592-49e1-8b3b-9a0fa61e4afd",
   "metadata": {
    "ExecuteTime": {
     "end_time": "2024-11-11T22:26:49.893753Z",
     "start_time": "2024-11-11T22:25:25.533313Z"
    },
    "tags": []
   },
   "outputs": [
    {
     "name": "stdout",
     "output_type": "stream",
     "text": [
      "month + habitat\n",
      "F1, Acc, Recall3:  0.43831895801958404 0.6844262295081968\n",
      "Diff:  0.033 0.91\n",
      "month + substrate\n",
      "F1, Acc, Recall3:  0.435706260862435 0.6902943368107303\n",
      "Diff:  0.03 1.5\n",
      "month + biogeographicalRegion\n",
      "F1, Acc, Recall3:  0.4220751786799952 0.6823770491803278\n",
      "Diff:  0.017 0.71\n",
      "month + metaSubstrate\n",
      "F1, Acc, Recall3:  0.4320342879633957 0.6890834575260805\n",
      "Diff:  0.027 1.38\n"
     ]
    },
    {
     "name": "stderr",
     "output_type": "stream",
     "text": [
      "/opt/homebrew/Caskroom/miniforge/base/lib/python3.9/site-packages/numpy/core/fromnumeric.py:59: FutureWarning: The behavior of Series.argmax/argmin with skipna=False and NAs, or with all-NAs is deprecated. In a future version this will raise ValueError.\n",
      "  return bound(*args, **kwds)\n"
     ]
    },
    {
     "name": "stdout",
     "output_type": "stream",
     "text": [
      "habitat + substrate\n",
      "F1, Acc, Recall3:  0.4317493713360047 0.6797690014903129\n",
      "Diff:  0.026 0.45\n",
      "habitat + biogeographicalRegion\n",
      "F1, Acc, Recall3:  0.4218073309903457 0.6743666169895678\n",
      "Diff:  0.016 -0.09\n"
     ]
    },
    {
     "name": "stderr",
     "output_type": "stream",
     "text": [
      "/opt/homebrew/Caskroom/miniforge/base/lib/python3.9/site-packages/numpy/core/fromnumeric.py:59: FutureWarning: The behavior of Series.argmax/argmin with skipna=False and NAs, or with all-NAs is deprecated. In a future version this will raise ValueError.\n",
      "  return bound(*args, **kwds)\n"
     ]
    },
    {
     "name": "stdout",
     "output_type": "stream",
     "text": [
      "habitat + metaSubstrate\n",
      "F1, Acc, Recall3:  0.4310226072142507 0.6795827123695977\n",
      "Diff:  0.026 0.43\n",
      "substrate + biogeographicalRegion\n",
      "F1, Acc, Recall3:  0.4166203602383838 0.6798621460506706\n",
      "Diff:  0.011 0.46\n",
      "substrate + metaSubstrate\n",
      "F1, Acc, Recall3:  0.4241563057692613 0.6827496274217586\n",
      "Diff:  0.019 0.75\n",
      "biogeographicalRegion + metaSubstrate\n",
      "F1, Acc, Recall3:  0.41361204796438555 0.6778129657228018\n",
      "Diff:  0.008 0.25\n"
     ]
    },
    {
     "name": "stderr",
     "output_type": "stream",
     "text": [
      "/opt/homebrew/Caskroom/miniforge/base/lib/python3.9/site-packages/numpy/core/fromnumeric.py:59: FutureWarning: The behavior of Series.argmax/argmin with skipna=False and NAs, or with all-NAs is deprecated. In a future version this will raise ValueError.\n",
      "  return bound(*args, **kwds)\n"
     ]
    },
    {
     "name": "stdout",
     "output_type": "stream",
     "text": [
      "month + habitat + substrate\n",
      "F1, Acc, Recall3:  0.4442441045261595 0.6848919523099851\n",
      "Diff:  0.039 0.96\n",
      "month + habitat + biogeographicalRegion\n",
      "F1, Acc, Recall3:  0.4316607121666508 0.6814456035767511\n",
      "Diff:  0.026 0.61\n"
     ]
    },
    {
     "name": "stderr",
     "output_type": "stream",
     "text": [
      "/opt/homebrew/Caskroom/miniforge/base/lib/python3.9/site-packages/numpy/core/fromnumeric.py:59: FutureWarning: The behavior of Series.argmax/argmin with skipna=False and NAs, or with all-NAs is deprecated. In a future version this will raise ValueError.\n",
      "  return bound(*args, **kwds)\n"
     ]
    },
    {
     "name": "stdout",
     "output_type": "stream",
     "text": [
      "month + habitat + metaSubstrate\n",
      "F1, Acc, Recall3:  0.4461986054121738 0.6848919523099851\n",
      "Diff:  0.041 0.96\n",
      "month + substrate + biogeographicalRegion\n",
      "F1, Acc, Recall3:  0.4303243108922367 0.6861028315946349\n",
      "Diff:  0.025 1.08\n",
      "month + substrate + metaSubstrate\n",
      "F1, Acc, Recall3:  0.4332700773899358 0.688338301043219\n",
      "Diff:  0.028 1.3\n",
      "month + biogeographicalRegion + metaSubstrate\n",
      "F1, Acc, Recall3:  0.42428283521348037 0.6847988077496274\n",
      "Diff:  0.019 0.95\n"
     ]
    },
    {
     "name": "stderr",
     "output_type": "stream",
     "text": [
      "/opt/homebrew/Caskroom/miniforge/base/lib/python3.9/site-packages/numpy/core/fromnumeric.py:59: FutureWarning: The behavior of Series.argmax/argmin with skipna=False and NAs, or with all-NAs is deprecated. In a future version this will raise ValueError.\n",
      "  return bound(*args, **kwds)\n"
     ]
    },
    {
     "name": "stdout",
     "output_type": "stream",
     "text": [
      "habitat + substrate + biogeographicalRegion\n",
      "F1, Acc, Recall3:  0.4232336780430707 0.6761363636363636\n",
      "Diff:  0.018 0.08\n"
     ]
    },
    {
     "name": "stderr",
     "output_type": "stream",
     "text": [
      "/opt/homebrew/Caskroom/miniforge/base/lib/python3.9/site-packages/numpy/core/fromnumeric.py:59: FutureWarning: The behavior of Series.argmax/argmin with skipna=False and NAs, or with all-NAs is deprecated. In a future version this will raise ValueError.\n",
      "  return bound(*args, **kwds)\n"
     ]
    },
    {
     "name": "stdout",
     "output_type": "stream",
     "text": [
      "habitat + substrate + metaSubstrate\n",
      "F1, Acc, Recall3:  0.43381961235218214 0.6791169895678092\n",
      "Diff:  0.028 0.38\n"
     ]
    },
    {
     "name": "stderr",
     "output_type": "stream",
     "text": [
      "/opt/homebrew/Caskroom/miniforge/base/lib/python3.9/site-packages/numpy/core/fromnumeric.py:59: FutureWarning: The behavior of Series.argmax/argmin with skipna=False and NAs, or with all-NAs is deprecated. In a future version this will raise ValueError.\n",
      "  return bound(*args, **kwds)\n"
     ]
    },
    {
     "name": "stdout",
     "output_type": "stream",
     "text": [
      "habitat + biogeographicalRegion + metaSubstrate\n",
      "F1, Acc, Recall3:  0.42408575265979576 0.676322652757079\n",
      "Diff:  0.019 0.1\n",
      "substrate + biogeographicalRegion + metaSubstrate\n",
      "F1, Acc, Recall3:  0.4168406868094324 0.6795827123695977\n",
      "Diff:  0.011 0.43\n"
     ]
    },
    {
     "name": "stderr",
     "output_type": "stream",
     "text": [
      "/opt/homebrew/Caskroom/miniforge/base/lib/python3.9/site-packages/numpy/core/fromnumeric.py:59: FutureWarning: The behavior of Series.argmax/argmin with skipna=False and NAs, or with all-NAs is deprecated. In a future version this will raise ValueError.\n",
      "  return bound(*args, **kwds)\n"
     ]
    },
    {
     "name": "stdout",
     "output_type": "stream",
     "text": [
      "month + habitat + substrate + biogeographicalRegion\n",
      "F1, Acc, Recall3:  0.43809148527370084 0.6809798807749627\n",
      "Diff:  0.033 0.57\n"
     ]
    },
    {
     "name": "stderr",
     "output_type": "stream",
     "text": [
      "/opt/homebrew/Caskroom/miniforge/base/lib/python3.9/site-packages/numpy/core/fromnumeric.py:59: FutureWarning: The behavior of Series.argmax/argmin with skipna=False and NAs, or with all-NAs is deprecated. In a future version this will raise ValueError.\n",
      "  return bound(*args, **kwds)\n"
     ]
    },
    {
     "name": "stdout",
     "output_type": "stream",
     "text": [
      "month + habitat + substrate + metaSubstrate\n",
      "F1, Acc, Recall3:  0.4431125593781695 0.6847056631892697\n",
      "Diff:  0.038 0.94\n"
     ]
    },
    {
     "name": "stderr",
     "output_type": "stream",
     "text": [
      "/opt/homebrew/Caskroom/miniforge/base/lib/python3.9/site-packages/numpy/core/fromnumeric.py:59: FutureWarning: The behavior of Series.argmax/argmin with skipna=False and NAs, or with all-NAs is deprecated. In a future version this will raise ValueError.\n",
      "  return bound(*args, **kwds)\n"
     ]
    },
    {
     "name": "stdout",
     "output_type": "stream",
     "text": [
      "month + habitat + biogeographicalRegion + metaSubstrate\n",
      "F1, Acc, Recall3:  0.4383144649165884 0.6812593144560357\n",
      "Diff:  0.033 0.6\n",
      "month + substrate + biogeographicalRegion + metaSubstrate\n",
      "F1, Acc, Recall3:  0.4270881456343786 0.6861028315946349\n",
      "Diff:  0.022 1.08\n"
     ]
    },
    {
     "name": "stderr",
     "output_type": "stream",
     "text": [
      "/opt/homebrew/Caskroom/miniforge/base/lib/python3.9/site-packages/numpy/core/fromnumeric.py:59: FutureWarning: The behavior of Series.argmax/argmin with skipna=False and NAs, or with all-NAs is deprecated. In a future version this will raise ValueError.\n",
      "  return bound(*args, **kwds)\n"
     ]
    },
    {
     "name": "stdout",
     "output_type": "stream",
     "text": [
      "habitat + substrate + biogeographicalRegion + metaSubstrate\n",
      "F1, Acc, Recall3:  0.42334378301373676 0.675763785394933\n",
      "Diff:  0.018 0.05\n"
     ]
    },
    {
     "name": "stderr",
     "output_type": "stream",
     "text": [
      "/opt/homebrew/Caskroom/miniforge/base/lib/python3.9/site-packages/numpy/core/fromnumeric.py:59: FutureWarning: The behavior of Series.argmax/argmin with skipna=False and NAs, or with all-NAs is deprecated. In a future version this will raise ValueError.\n",
      "  return bound(*args, **kwds)\n"
     ]
    },
    {
     "name": "stdout",
     "output_type": "stream",
     "text": [
      "month + habitat + substrate + biogeographicalRegion + metaSubstrate\n",
      "F1, Acc, Recall3:  0.4349311092923811 0.6805141579731744\n",
      "Diff:  0.029 0.52\n"
     ]
    }
   ],
   "source": [
    "from itertools import combinations\n",
    "from utils.matadata_processing import weight_predictions_combined_feature_priors\n",
    "\n",
    "\n",
    "def post_process_prior_combinations(raw_predictions, feature_prior_ratios):\n",
    "    metrics_by_combination = {}\n",
    "    all_combinations_selected_features = []\n",
    "    for num_features in range(2, len(SELECTED_FEATURES) + 1):\n",
    "        all_combinations_selected_features.extend(combinations(SELECTED_FEATURES, num_features))\n",
    "    \n",
    "    for combination in all_combinations_selected_features:\n",
    "\n",
    "        selected_feature_prior_ratios = [feature_prior_ratios[feature] for feature in combination]\n",
    "\n",
    "        merged_predictions, merged_predictions_raw = weight_predictions_combined_feature_priors(\n",
    "            raw_predictions=raw_predictions,\n",
    "            feature_prior_ratios=selected_feature_prior_ratios\n",
    "        )\n",
    "\n",
    "        f1 = f1_score(test_df[TARGET_FEATURE], merged_predictions, average='macro')\n",
    "        accuracy = accuracy_score(test_df[TARGET_FEATURE], merged_predictions)\n",
    "        # recall_3 = top_k_accuracy_score(test_df[TARGET_FEATURE], merged_predictions_raw, k=3)\n",
    "        \n",
    "        combination_name = \" + \".join(combination)\n",
    "        \n",
    "        metrics_by_combination[combination_name] = {\n",
    "            \"f1\": f1,\n",
    "            \"accuracy\": accuracy,\n",
    "            # \"recall_3\": recall_3\n",
    "        }\n",
    "        print(combination_name)\n",
    "        # print(\"F1, Acc, Recall3: \", f1, accuracy, recall_3)\n",
    "        print(\"F1, Acc, Recall3: \", f1, accuracy)\n",
    "\n",
    "        # print(\"Diff: \", np.around(f1-vanilla_f1, 3), np.around((accuracy-vanilla_accuracy) * 100, 2), np.around((recall_3-vanilla_recall_3)*100, 2))\n",
    "        print(\"Diff: \", np.around(f1-vanilla_f1, 3), np.around((accuracy-vanilla_accuracy) * 100, 2))\n",
    "    \n",
    "    return metrics_by_combination\n",
    "        \n",
    "metrics_by_combination = post_process_prior_combinations(\n",
    "    raw_predictions=preds_raw,\n",
    "    feature_prior_ratios=feature_prior_ratios\n",
    ")"
   ]
  },
  {
   "cell_type": "code",
   "execution_count": 29,
   "id": "7fd261d5-1757-4b56-ab7c-787058e719f8",
   "metadata": {
    "ExecuteTime": {
     "end_time": "2024-11-11T22:27:28.569003Z",
     "start_time": "2024-11-11T22:27:28.531916Z"
    },
    "tags": []
   },
   "outputs": [
    {
     "data": {
      "text/html": [
       "<div>\n",
       "<style scoped>\n",
       "    .dataframe tbody tr th:only-of-type {\n",
       "        vertical-align: middle;\n",
       "    }\n",
       "\n",
       "    .dataframe tbody tr th {\n",
       "        vertical-align: top;\n",
       "    }\n",
       "\n",
       "    .dataframe thead th {\n",
       "        text-align: right;\n",
       "    }\n",
       "</style>\n",
       "<table border=\"1\" class=\"dataframe\">\n",
       "  <thead>\n",
       "    <tr style=\"text-align: right;\">\n",
       "      <th></th>\n",
       "      <th>accuracy</th>\n",
       "      <th>f1</th>\n",
       "    </tr>\n",
       "  </thead>\n",
       "  <tbody>\n",
       "    <tr>\n",
       "      <th>Vanilla</th>\n",
       "      <td>0.675298</td>\n",
       "      <td>0.405476</td>\n",
       "    </tr>\n",
       "    <tr>\n",
       "      <th>ObservationID</th>\n",
       "      <td>0.777943</td>\n",
       "      <td>0.533952</td>\n",
       "    </tr>\n",
       "    <tr>\n",
       "      <th>month</th>\n",
       "      <td>0.683122</td>\n",
       "      <td>0.424035</td>\n",
       "    </tr>\n",
       "    <tr>\n",
       "      <th>habitat</th>\n",
       "      <td>0.676975</td>\n",
       "      <td>0.424884</td>\n",
       "    </tr>\n",
       "    <tr>\n",
       "      <th>substrate</th>\n",
       "      <td>0.682004</td>\n",
       "      <td>0.420678</td>\n",
       "    </tr>\n",
       "    <tr>\n",
       "      <th>biogeographicalRegion</th>\n",
       "      <td>0.674832</td>\n",
       "      <td>0.404322</td>\n",
       "    </tr>\n",
       "    <tr>\n",
       "      <th>metaSubstrate</th>\n",
       "      <td>0.680328</td>\n",
       "      <td>0.417668</td>\n",
       "    </tr>\n",
       "    <tr>\n",
       "      <th>month + habitat</th>\n",
       "      <td>0.684426</td>\n",
       "      <td>0.438319</td>\n",
       "    </tr>\n",
       "    <tr>\n",
       "      <th>month + substrate</th>\n",
       "      <td>0.690294</td>\n",
       "      <td>0.435706</td>\n",
       "    </tr>\n",
       "    <tr>\n",
       "      <th>month + biogeographicalRegion</th>\n",
       "      <td>0.682377</td>\n",
       "      <td>0.422075</td>\n",
       "    </tr>\n",
       "    <tr>\n",
       "      <th>month + metaSubstrate</th>\n",
       "      <td>0.689083</td>\n",
       "      <td>0.432034</td>\n",
       "    </tr>\n",
       "    <tr>\n",
       "      <th>habitat + substrate</th>\n",
       "      <td>0.679769</td>\n",
       "      <td>0.431749</td>\n",
       "    </tr>\n",
       "    <tr>\n",
       "      <th>habitat + biogeographicalRegion</th>\n",
       "      <td>0.674367</td>\n",
       "      <td>0.421807</td>\n",
       "    </tr>\n",
       "    <tr>\n",
       "      <th>habitat + metaSubstrate</th>\n",
       "      <td>0.679583</td>\n",
       "      <td>0.431023</td>\n",
       "    </tr>\n",
       "    <tr>\n",
       "      <th>substrate + biogeographicalRegion</th>\n",
       "      <td>0.679862</td>\n",
       "      <td>0.416620</td>\n",
       "    </tr>\n",
       "    <tr>\n",
       "      <th>substrate + metaSubstrate</th>\n",
       "      <td>0.682750</td>\n",
       "      <td>0.424156</td>\n",
       "    </tr>\n",
       "    <tr>\n",
       "      <th>biogeographicalRegion + metaSubstrate</th>\n",
       "      <td>0.677813</td>\n",
       "      <td>0.413612</td>\n",
       "    </tr>\n",
       "    <tr>\n",
       "      <th>month + habitat + substrate</th>\n",
       "      <td>0.684892</td>\n",
       "      <td>0.444244</td>\n",
       "    </tr>\n",
       "    <tr>\n",
       "      <th>month + habitat + biogeographicalRegion</th>\n",
       "      <td>0.681446</td>\n",
       "      <td>0.431661</td>\n",
       "    </tr>\n",
       "    <tr>\n",
       "      <th>month + habitat + metaSubstrate</th>\n",
       "      <td>0.684892</td>\n",
       "      <td>0.446199</td>\n",
       "    </tr>\n",
       "    <tr>\n",
       "      <th>month + substrate + biogeographicalRegion</th>\n",
       "      <td>0.686103</td>\n",
       "      <td>0.430324</td>\n",
       "    </tr>\n",
       "    <tr>\n",
       "      <th>month + substrate + metaSubstrate</th>\n",
       "      <td>0.688338</td>\n",
       "      <td>0.433270</td>\n",
       "    </tr>\n",
       "    <tr>\n",
       "      <th>month + biogeographicalRegion + metaSubstrate</th>\n",
       "      <td>0.684799</td>\n",
       "      <td>0.424283</td>\n",
       "    </tr>\n",
       "    <tr>\n",
       "      <th>habitat + substrate + biogeographicalRegion</th>\n",
       "      <td>0.676136</td>\n",
       "      <td>0.423234</td>\n",
       "    </tr>\n",
       "    <tr>\n",
       "      <th>habitat + substrate + metaSubstrate</th>\n",
       "      <td>0.679117</td>\n",
       "      <td>0.433820</td>\n",
       "    </tr>\n",
       "    <tr>\n",
       "      <th>habitat + biogeographicalRegion + metaSubstrate</th>\n",
       "      <td>0.676323</td>\n",
       "      <td>0.424086</td>\n",
       "    </tr>\n",
       "    <tr>\n",
       "      <th>substrate + biogeographicalRegion + metaSubstrate</th>\n",
       "      <td>0.679583</td>\n",
       "      <td>0.416841</td>\n",
       "    </tr>\n",
       "    <tr>\n",
       "      <th>month + habitat + substrate + biogeographicalRegion</th>\n",
       "      <td>0.680980</td>\n",
       "      <td>0.438091</td>\n",
       "    </tr>\n",
       "    <tr>\n",
       "      <th>month + habitat + substrate + metaSubstrate</th>\n",
       "      <td>0.684706</td>\n",
       "      <td>0.443113</td>\n",
       "    </tr>\n",
       "    <tr>\n",
       "      <th>month + habitat + biogeographicalRegion + metaSubstrate</th>\n",
       "      <td>0.681259</td>\n",
       "      <td>0.438314</td>\n",
       "    </tr>\n",
       "    <tr>\n",
       "      <th>month + substrate + biogeographicalRegion + metaSubstrate</th>\n",
       "      <td>0.686103</td>\n",
       "      <td>0.427088</td>\n",
       "    </tr>\n",
       "    <tr>\n",
       "      <th>habitat + substrate + biogeographicalRegion + metaSubstrate</th>\n",
       "      <td>0.675764</td>\n",
       "      <td>0.423344</td>\n",
       "    </tr>\n",
       "    <tr>\n",
       "      <th>month + habitat + substrate + biogeographicalRegion + metaSubstrate</th>\n",
       "      <td>0.680514</td>\n",
       "      <td>0.434931</td>\n",
       "    </tr>\n",
       "  </tbody>\n",
       "</table>\n",
       "</div>"
      ],
      "text/plain": [
       "                                                    accuracy        f1\n",
       "Vanilla                                             0.675298  0.405476\n",
       "ObservationID                                       0.777943  0.533952\n",
       "month                                               0.683122  0.424035\n",
       "habitat                                             0.676975  0.424884\n",
       "substrate                                           0.682004  0.420678\n",
       "biogeographicalRegion                               0.674832  0.404322\n",
       "metaSubstrate                                       0.680328  0.417668\n",
       "month + habitat                                     0.684426  0.438319\n",
       "month + substrate                                   0.690294  0.435706\n",
       "month + biogeographicalRegion                       0.682377  0.422075\n",
       "month + metaSubstrate                               0.689083  0.432034\n",
       "habitat + substrate                                 0.679769  0.431749\n",
       "habitat + biogeographicalRegion                     0.674367  0.421807\n",
       "habitat + metaSubstrate                             0.679583  0.431023\n",
       "substrate + biogeographicalRegion                   0.679862  0.416620\n",
       "substrate + metaSubstrate                           0.682750  0.424156\n",
       "biogeographicalRegion + metaSubstrate               0.677813  0.413612\n",
       "month + habitat + substrate                         0.684892  0.444244\n",
       "month + habitat + biogeographicalRegion             0.681446  0.431661\n",
       "month + habitat + metaSubstrate                     0.684892  0.446199\n",
       "month + substrate + biogeographicalRegion           0.686103  0.430324\n",
       "month + substrate + metaSubstrate                   0.688338  0.433270\n",
       "month + biogeographicalRegion + metaSubstrate       0.684799  0.424283\n",
       "habitat + substrate + biogeographicalRegion         0.676136  0.423234\n",
       "habitat + substrate + metaSubstrate                 0.679117  0.433820\n",
       "habitat + biogeographicalRegion + metaSubstrate     0.676323  0.424086\n",
       "substrate + biogeographicalRegion + metaSubstrate   0.679583  0.416841\n",
       "month + habitat + substrate + biogeographicalRe...  0.680980  0.438091\n",
       "month + habitat + substrate + metaSubstrate         0.684706  0.443113\n",
       "month + habitat + biogeographicalRegion + metaS...  0.681259  0.438314\n",
       "month + substrate + biogeographicalRegion + met...  0.686103  0.427088\n",
       "habitat + substrate + biogeographicalRegion + m...  0.675764  0.423344\n",
       "month + habitat + substrate + biogeographicalRe...  0.680514  0.434931"
      ]
     },
     "execution_count": 29,
     "metadata": {},
     "output_type": "execute_result"
    }
   ],
   "source": [
    "# results = {\n",
    "#     \"Vanilla\":       {'f1': vanilla_f1, 'accuracy': vanilla_accuracy, 'recall_3': vanilla_recall_3},\n",
    "#     \"ObservationID\": {'f1': obs_f1, 'accuracy': obs_accuracy, 'recall_3': obs_recall_3}\n",
    "# }\n",
    "results = {\n",
    "    \"Vanilla\":       {'f1': vanilla_f1, 'accuracy': vanilla_accuracy},\n",
    "    \"ObservationID\": {'f1': obs_f1, 'accuracy': obs_accuracy}\n",
    "}\n",
    "results.update(metrics_by_features)\n",
    "results.update(metrics_by_combination)\n",
    "\n",
    "results_df = pd.DataFrame(results).transpose()\n",
    "results_df = results_df[['accuracy', 'f1']]\n",
    "results_df.head(50)"
   ]
  },
  {
   "cell_type": "code",
   "execution_count": 30,
   "id": "94a556b8662e78a",
   "metadata": {
    "ExecuteTime": {
     "end_time": "2024-11-11T22:27:34.218621Z",
     "start_time": "2024-11-11T22:27:34.188156Z"
    },
    "collapsed": false
   },
   "outputs": [
    {
     "data": {
      "text/html": [
       "<div>\n",
       "<style scoped>\n",
       "    .dataframe tbody tr th:only-of-type {\n",
       "        vertical-align: middle;\n",
       "    }\n",
       "\n",
       "    .dataframe tbody tr th {\n",
       "        vertical-align: top;\n",
       "    }\n",
       "\n",
       "    .dataframe thead th {\n",
       "        text-align: right;\n",
       "    }\n",
       "</style>\n",
       "<table border=\"1\" class=\"dataframe\">\n",
       "  <thead>\n",
       "    <tr style=\"text-align: right;\">\n",
       "      <th></th>\n",
       "      <th>accuracy</th>\n",
       "      <th>f1</th>\n",
       "    </tr>\n",
       "  </thead>\n",
       "  <tbody>\n",
       "    <tr>\n",
       "      <th>Vanilla</th>\n",
       "      <td>0.000000</td>\n",
       "      <td>0.000000</td>\n",
       "    </tr>\n",
       "    <tr>\n",
       "      <th>ObservationID</th>\n",
       "      <td>10.264531</td>\n",
       "      <td>12.847549</td>\n",
       "    </tr>\n",
       "    <tr>\n",
       "      <th>month</th>\n",
       "      <td>0.782414</td>\n",
       "      <td>1.855843</td>\n",
       "    </tr>\n",
       "    <tr>\n",
       "      <th>habitat</th>\n",
       "      <td>0.167660</td>\n",
       "      <td>1.940750</td>\n",
       "    </tr>\n",
       "    <tr>\n",
       "      <th>substrate</th>\n",
       "      <td>0.670641</td>\n",
       "      <td>1.520188</td>\n",
       "    </tr>\n",
       "    <tr>\n",
       "      <th>biogeographicalRegion</th>\n",
       "      <td>-0.046572</td>\n",
       "      <td>-0.115473</td>\n",
       "    </tr>\n",
       "    <tr>\n",
       "      <th>metaSubstrate</th>\n",
       "      <td>0.502981</td>\n",
       "      <td>1.219194</td>\n",
       "    </tr>\n",
       "    <tr>\n",
       "      <th>month + habitat</th>\n",
       "      <td>0.912817</td>\n",
       "      <td>3.284252</td>\n",
       "    </tr>\n",
       "    <tr>\n",
       "      <th>month + substrate</th>\n",
       "      <td>1.499627</td>\n",
       "      <td>3.022982</td>\n",
       "    </tr>\n",
       "    <tr>\n",
       "      <th>month + biogeographicalRegion</th>\n",
       "      <td>0.707899</td>\n",
       "      <td>1.659874</td>\n",
       "    </tr>\n",
       "    <tr>\n",
       "      <th>month + metaSubstrate</th>\n",
       "      <td>1.378539</td>\n",
       "      <td>2.655785</td>\n",
       "    </tr>\n",
       "    <tr>\n",
       "      <th>habitat + substrate</th>\n",
       "      <td>0.447094</td>\n",
       "      <td>2.627294</td>\n",
       "    </tr>\n",
       "    <tr>\n",
       "      <th>habitat + biogeographicalRegion</th>\n",
       "      <td>-0.093145</td>\n",
       "      <td>1.633089</td>\n",
       "    </tr>\n",
       "    <tr>\n",
       "      <th>habitat + metaSubstrate</th>\n",
       "      <td>0.428465</td>\n",
       "      <td>2.554617</td>\n",
       "    </tr>\n",
       "    <tr>\n",
       "      <th>substrate + biogeographicalRegion</th>\n",
       "      <td>0.456408</td>\n",
       "      <td>1.114392</td>\n",
       "    </tr>\n",
       "    <tr>\n",
       "      <th>substrate + metaSubstrate</th>\n",
       "      <td>0.745156</td>\n",
       "      <td>1.867987</td>\n",
       "    </tr>\n",
       "    <tr>\n",
       "      <th>biogeographicalRegion + metaSubstrate</th>\n",
       "      <td>0.251490</td>\n",
       "      <td>0.813561</td>\n",
       "    </tr>\n",
       "    <tr>\n",
       "      <th>month + habitat + substrate</th>\n",
       "      <td>0.959389</td>\n",
       "      <td>3.876767</td>\n",
       "    </tr>\n",
       "    <tr>\n",
       "      <th>month + habitat + biogeographicalRegion</th>\n",
       "      <td>0.614754</td>\n",
       "      <td>2.618428</td>\n",
       "    </tr>\n",
       "    <tr>\n",
       "      <th>month + habitat + metaSubstrate</th>\n",
       "      <td>0.959389</td>\n",
       "      <td>4.072217</td>\n",
       "    </tr>\n",
       "    <tr>\n",
       "      <th>month + substrate + biogeographicalRegion</th>\n",
       "      <td>1.080477</td>\n",
       "      <td>2.484787</td>\n",
       "    </tr>\n",
       "    <tr>\n",
       "      <th>month + substrate + metaSubstrate</th>\n",
       "      <td>1.304024</td>\n",
       "      <td>2.779364</td>\n",
       "    </tr>\n",
       "    <tr>\n",
       "      <th>month + biogeographicalRegion + metaSubstrate</th>\n",
       "      <td>0.950075</td>\n",
       "      <td>1.880640</td>\n",
       "    </tr>\n",
       "    <tr>\n",
       "      <th>habitat + substrate + biogeographicalRegion</th>\n",
       "      <td>0.083830</td>\n",
       "      <td>1.775724</td>\n",
       "    </tr>\n",
       "    <tr>\n",
       "      <th>habitat + substrate + metaSubstrate</th>\n",
       "      <td>0.381893</td>\n",
       "      <td>2.834318</td>\n",
       "    </tr>\n",
       "    <tr>\n",
       "      <th>habitat + biogeographicalRegion + metaSubstrate</th>\n",
       "      <td>0.102459</td>\n",
       "      <td>1.860932</td>\n",
       "    </tr>\n",
       "    <tr>\n",
       "      <th>substrate + biogeographicalRegion + metaSubstrate</th>\n",
       "      <td>0.428465</td>\n",
       "      <td>1.136425</td>\n",
       "    </tr>\n",
       "    <tr>\n",
       "      <th>month + habitat + substrate + biogeographicalRegion</th>\n",
       "      <td>0.568182</td>\n",
       "      <td>3.261505</td>\n",
       "    </tr>\n",
       "    <tr>\n",
       "      <th>month + habitat + substrate + metaSubstrate</th>\n",
       "      <td>0.940760</td>\n",
       "      <td>3.763612</td>\n",
       "    </tr>\n",
       "    <tr>\n",
       "      <th>month + habitat + biogeographicalRegion + metaSubstrate</th>\n",
       "      <td>0.596125</td>\n",
       "      <td>3.283803</td>\n",
       "    </tr>\n",
       "    <tr>\n",
       "      <th>month + substrate + biogeographicalRegion + metaSubstrate</th>\n",
       "      <td>1.080477</td>\n",
       "      <td>2.161171</td>\n",
       "    </tr>\n",
       "    <tr>\n",
       "      <th>habitat + substrate + biogeographicalRegion + metaSubstrate</th>\n",
       "      <td>0.046572</td>\n",
       "      <td>1.786735</td>\n",
       "    </tr>\n",
       "    <tr>\n",
       "      <th>month + habitat + substrate + biogeographicalRegion + metaSubstrate</th>\n",
       "      <td>0.521610</td>\n",
       "      <td>2.945467</td>\n",
       "    </tr>\n",
       "  </tbody>\n",
       "</table>\n",
       "</div>"
      ],
      "text/plain": [
       "                                                     accuracy         f1\n",
       "Vanilla                                              0.000000   0.000000\n",
       "ObservationID                                       10.264531  12.847549\n",
       "month                                                0.782414   1.855843\n",
       "habitat                                              0.167660   1.940750\n",
       "substrate                                            0.670641   1.520188\n",
       "biogeographicalRegion                               -0.046572  -0.115473\n",
       "metaSubstrate                                        0.502981   1.219194\n",
       "month + habitat                                      0.912817   3.284252\n",
       "month + substrate                                    1.499627   3.022982\n",
       "month + biogeographicalRegion                        0.707899   1.659874\n",
       "month + metaSubstrate                                1.378539   2.655785\n",
       "habitat + substrate                                  0.447094   2.627294\n",
       "habitat + biogeographicalRegion                     -0.093145   1.633089\n",
       "habitat + metaSubstrate                              0.428465   2.554617\n",
       "substrate + biogeographicalRegion                    0.456408   1.114392\n",
       "substrate + metaSubstrate                            0.745156   1.867987\n",
       "biogeographicalRegion + metaSubstrate                0.251490   0.813561\n",
       "month + habitat + substrate                          0.959389   3.876767\n",
       "month + habitat + biogeographicalRegion              0.614754   2.618428\n",
       "month + habitat + metaSubstrate                      0.959389   4.072217\n",
       "month + substrate + biogeographicalRegion            1.080477   2.484787\n",
       "month + substrate + metaSubstrate                    1.304024   2.779364\n",
       "month + biogeographicalRegion + metaSubstrate        0.950075   1.880640\n",
       "habitat + substrate + biogeographicalRegion          0.083830   1.775724\n",
       "habitat + substrate + metaSubstrate                  0.381893   2.834318\n",
       "habitat + biogeographicalRegion + metaSubstrate      0.102459   1.860932\n",
       "substrate + biogeographicalRegion + metaSubstrate    0.428465   1.136425\n",
       "month + habitat + substrate + biogeographicalRe...   0.568182   3.261505\n",
       "month + habitat + substrate + metaSubstrate          0.940760   3.763612\n",
       "month + habitat + biogeographicalRegion + metaS...   0.596125   3.283803\n",
       "month + substrate + biogeographicalRegion + met...   1.080477   2.161171\n",
       "habitat + substrate + biogeographicalRegion + m...   0.046572   1.786735\n",
       "month + habitat + substrate + biogeographicalRe...   0.521610   2.945467"
      ]
     },
     "execution_count": 30,
     "metadata": {},
     "output_type": "execute_result"
    }
   ],
   "source": [
    "(results_df - results_df.iloc[0, :]) * 100"
   ]
  },
  {
   "cell_type": "code",
   "execution_count": 31,
   "id": "a0958ea5a0737208",
   "metadata": {
    "ExecuteTime": {
     "end_time": "2024-11-11T22:27:36.160627Z",
     "start_time": "2024-11-11T22:27:36.095712Z"
    },
    "collapsed": false
   },
   "outputs": [
    {
     "data": {
      "text/html": [
       "<div>\n",
       "<style scoped>\n",
       "    .dataframe tbody tr th:only-of-type {\n",
       "        vertical-align: middle;\n",
       "    }\n",
       "\n",
       "    .dataframe tbody tr th {\n",
       "        vertical-align: top;\n",
       "    }\n",
       "\n",
       "    .dataframe thead th {\n",
       "        text-align: right;\n",
       "    }\n",
       "</style>\n",
       "<table border=\"1\" class=\"dataframe\">\n",
       "  <thead>\n",
       "    <tr style=\"text-align: right;\">\n",
       "      <th></th>\n",
       "      <th>accuracy</th>\n",
       "      <th>f1</th>\n",
       "    </tr>\n",
       "  </thead>\n",
       "  <tbody>\n",
       "    <tr>\n",
       "      <th>Vanilla</th>\n",
       "      <td>0.000000</td>\n",
       "      <td>0.000000</td>\n",
       "    </tr>\n",
       "    <tr>\n",
       "      <th>ObservationID</th>\n",
       "      <td>10.264531</td>\n",
       "      <td>12.847549</td>\n",
       "    </tr>\n",
       "    <tr>\n",
       "      <th>month</th>\n",
       "      <td>0.782414</td>\n",
       "      <td>1.855843</td>\n",
       "    </tr>\n",
       "    <tr>\n",
       "      <th>habitat</th>\n",
       "      <td>0.167660</td>\n",
       "      <td>1.940750</td>\n",
       "    </tr>\n",
       "    <tr>\n",
       "      <th>substrate</th>\n",
       "      <td>0.670641</td>\n",
       "      <td>1.520188</td>\n",
       "    </tr>\n",
       "    <tr>\n",
       "      <th>biogeographicalRegion</th>\n",
       "      <td>-0.046572</td>\n",
       "      <td>-0.115473</td>\n",
       "    </tr>\n",
       "    <tr>\n",
       "      <th>metaSubstrate</th>\n",
       "      <td>0.502981</td>\n",
       "      <td>1.219194</td>\n",
       "    </tr>\n",
       "    <tr>\n",
       "      <th>month + habitat</th>\n",
       "      <td>0.912817</td>\n",
       "      <td>3.284252</td>\n",
       "    </tr>\n",
       "    <tr>\n",
       "      <th>month + substrate</th>\n",
       "      <td>1.499627</td>\n",
       "      <td>3.022982</td>\n",
       "    </tr>\n",
       "    <tr>\n",
       "      <th>month + biogeographicalRegion</th>\n",
       "      <td>0.707899</td>\n",
       "      <td>1.659874</td>\n",
       "    </tr>\n",
       "    <tr>\n",
       "      <th>month + metaSubstrate</th>\n",
       "      <td>1.378539</td>\n",
       "      <td>2.655785</td>\n",
       "    </tr>\n",
       "    <tr>\n",
       "      <th>habitat + substrate</th>\n",
       "      <td>0.447094</td>\n",
       "      <td>2.627294</td>\n",
       "    </tr>\n",
       "    <tr>\n",
       "      <th>habitat + biogeographicalRegion</th>\n",
       "      <td>-0.093145</td>\n",
       "      <td>1.633089</td>\n",
       "    </tr>\n",
       "    <tr>\n",
       "      <th>habitat + metaSubstrate</th>\n",
       "      <td>0.428465</td>\n",
       "      <td>2.554617</td>\n",
       "    </tr>\n",
       "    <tr>\n",
       "      <th>substrate + biogeographicalRegion</th>\n",
       "      <td>0.456408</td>\n",
       "      <td>1.114392</td>\n",
       "    </tr>\n",
       "    <tr>\n",
       "      <th>substrate + metaSubstrate</th>\n",
       "      <td>0.745156</td>\n",
       "      <td>1.867987</td>\n",
       "    </tr>\n",
       "    <tr>\n",
       "      <th>biogeographicalRegion + metaSubstrate</th>\n",
       "      <td>0.251490</td>\n",
       "      <td>0.813561</td>\n",
       "    </tr>\n",
       "    <tr>\n",
       "      <th>month + habitat + substrate</th>\n",
       "      <td>0.959389</td>\n",
       "      <td>3.876767</td>\n",
       "    </tr>\n",
       "    <tr>\n",
       "      <th>month + habitat + biogeographicalRegion</th>\n",
       "      <td>0.614754</td>\n",
       "      <td>2.618428</td>\n",
       "    </tr>\n",
       "    <tr>\n",
       "      <th>month + habitat + metaSubstrate</th>\n",
       "      <td>0.959389</td>\n",
       "      <td>4.072217</td>\n",
       "    </tr>\n",
       "    <tr>\n",
       "      <th>month + substrate + biogeographicalRegion</th>\n",
       "      <td>1.080477</td>\n",
       "      <td>2.484787</td>\n",
       "    </tr>\n",
       "    <tr>\n",
       "      <th>month + substrate + metaSubstrate</th>\n",
       "      <td>1.304024</td>\n",
       "      <td>2.779364</td>\n",
       "    </tr>\n",
       "    <tr>\n",
       "      <th>month + biogeographicalRegion + metaSubstrate</th>\n",
       "      <td>0.950075</td>\n",
       "      <td>1.880640</td>\n",
       "    </tr>\n",
       "    <tr>\n",
       "      <th>habitat + substrate + biogeographicalRegion</th>\n",
       "      <td>0.083830</td>\n",
       "      <td>1.775724</td>\n",
       "    </tr>\n",
       "    <tr>\n",
       "      <th>habitat + substrate + metaSubstrate</th>\n",
       "      <td>0.381893</td>\n",
       "      <td>2.834318</td>\n",
       "    </tr>\n",
       "    <tr>\n",
       "      <th>habitat + biogeographicalRegion + metaSubstrate</th>\n",
       "      <td>0.102459</td>\n",
       "      <td>1.860932</td>\n",
       "    </tr>\n",
       "    <tr>\n",
       "      <th>substrate + biogeographicalRegion + metaSubstrate</th>\n",
       "      <td>0.428465</td>\n",
       "      <td>1.136425</td>\n",
       "    </tr>\n",
       "    <tr>\n",
       "      <th>month + habitat + substrate + biogeographicalRegion</th>\n",
       "      <td>0.568182</td>\n",
       "      <td>3.261505</td>\n",
       "    </tr>\n",
       "    <tr>\n",
       "      <th>month + habitat + substrate + metaSubstrate</th>\n",
       "      <td>0.940760</td>\n",
       "      <td>3.763612</td>\n",
       "    </tr>\n",
       "    <tr>\n",
       "      <th>month + habitat + biogeographicalRegion + metaSubstrate</th>\n",
       "      <td>0.596125</td>\n",
       "      <td>3.283803</td>\n",
       "    </tr>\n",
       "    <tr>\n",
       "      <th>month + substrate + biogeographicalRegion + metaSubstrate</th>\n",
       "      <td>1.080477</td>\n",
       "      <td>2.161171</td>\n",
       "    </tr>\n",
       "    <tr>\n",
       "      <th>habitat + substrate + biogeographicalRegion + metaSubstrate</th>\n",
       "      <td>0.046572</td>\n",
       "      <td>1.786735</td>\n",
       "    </tr>\n",
       "    <tr>\n",
       "      <th>month + habitat + substrate + biogeographicalRegion + metaSubstrate</th>\n",
       "      <td>0.521610</td>\n",
       "      <td>2.945467</td>\n",
       "    </tr>\n",
       "  </tbody>\n",
       "</table>\n",
       "</div>"
      ],
      "text/plain": [
       "                                                     accuracy         f1\n",
       "Vanilla                                              0.000000   0.000000\n",
       "ObservationID                                       10.264531  12.847549\n",
       "month                                                0.782414   1.855843\n",
       "habitat                                              0.167660   1.940750\n",
       "substrate                                            0.670641   1.520188\n",
       "biogeographicalRegion                               -0.046572  -0.115473\n",
       "metaSubstrate                                        0.502981   1.219194\n",
       "month + habitat                                      0.912817   3.284252\n",
       "month + substrate                                    1.499627   3.022982\n",
       "month + biogeographicalRegion                        0.707899   1.659874\n",
       "month + metaSubstrate                                1.378539   2.655785\n",
       "habitat + substrate                                  0.447094   2.627294\n",
       "habitat + biogeographicalRegion                     -0.093145   1.633089\n",
       "habitat + metaSubstrate                              0.428465   2.554617\n",
       "substrate + biogeographicalRegion                    0.456408   1.114392\n",
       "substrate + metaSubstrate                            0.745156   1.867987\n",
       "biogeographicalRegion + metaSubstrate                0.251490   0.813561\n",
       "month + habitat + substrate                          0.959389   3.876767\n",
       "month + habitat + biogeographicalRegion              0.614754   2.618428\n",
       "month + habitat + metaSubstrate                      0.959389   4.072217\n",
       "month + substrate + biogeographicalRegion            1.080477   2.484787\n",
       "month + substrate + metaSubstrate                    1.304024   2.779364\n",
       "month + biogeographicalRegion + metaSubstrate        0.950075   1.880640\n",
       "habitat + substrate + biogeographicalRegion          0.083830   1.775724\n",
       "habitat + substrate + metaSubstrate                  0.381893   2.834318\n",
       "habitat + biogeographicalRegion + metaSubstrate      0.102459   1.860932\n",
       "substrate + biogeographicalRegion + metaSubstrate    0.428465   1.136425\n",
       "month + habitat + substrate + biogeographicalRe...   0.568182   3.261505\n",
       "month + habitat + substrate + metaSubstrate          0.940760   3.763612\n",
       "month + habitat + biogeographicalRegion + metaS...   0.596125   3.283803\n",
       "month + substrate + biogeographicalRegion + met...   1.080477   2.161171\n",
       "habitat + substrate + biogeographicalRegion + m...   0.046572   1.786735\n",
       "month + habitat + substrate + biogeographicalRe...   0.521610   2.945467"
      ]
     },
     "execution_count": 31,
     "metadata": {},
     "output_type": "execute_result"
    }
   ],
   "source": [
    "(results_df - results_df.iloc[0, :]) * 100"
   ]
  },
  {
   "cell_type": "code",
   "execution_count": 25,
   "id": "6f6456f9979944a5",
   "metadata": {
    "ExecuteTime": {
     "end_time": "2024-11-11T21:31:49.917188Z",
     "start_time": "2024-11-11T21:31:49.886838Z"
    },
    "collapsed": false
   },
   "outputs": [
    {
     "data": {
      "text/html": [
       "<div>\n",
       "<style scoped>\n",
       "    .dataframe tbody tr th:only-of-type {\n",
       "        vertical-align: middle;\n",
       "    }\n",
       "\n",
       "    .dataframe tbody tr th {\n",
       "        vertical-align: top;\n",
       "    }\n",
       "\n",
       "    .dataframe thead th {\n",
       "        text-align: right;\n",
       "    }\n",
       "</style>\n",
       "<table border=\"1\" class=\"dataframe\">\n",
       "  <thead>\n",
       "    <tr style=\"text-align: right;\">\n",
       "      <th></th>\n",
       "      <th>accuracy</th>\n",
       "      <th>f1</th>\n",
       "    </tr>\n",
       "  </thead>\n",
       "  <tbody>\n",
       "    <tr>\n",
       "      <th>Vanilla</th>\n",
       "      <td>0.000000</td>\n",
       "      <td>0.000000</td>\n",
       "    </tr>\n",
       "    <tr>\n",
       "      <th>ObservationID</th>\n",
       "      <td>11.570336</td>\n",
       "      <td>12.564606</td>\n",
       "    </tr>\n",
       "    <tr>\n",
       "      <th>month</th>\n",
       "      <td>1.168721</td>\n",
       "      <td>1.599317</td>\n",
       "    </tr>\n",
       "    <tr>\n",
       "      <th>biogeographicalRegion</th>\n",
       "      <td>0.382490</td>\n",
       "      <td>-0.250434</td>\n",
       "    </tr>\n",
       "    <tr>\n",
       "      <th>metaSubstrate</th>\n",
       "      <td>0.871228</td>\n",
       "      <td>1.698877</td>\n",
       "    </tr>\n",
       "    <tr>\n",
       "      <th>month + biogeographicalRegion</th>\n",
       "      <td>1.391840</td>\n",
       "      <td>1.515206</td>\n",
       "    </tr>\n",
       "    <tr>\n",
       "      <th>month + metaSubstrate</th>\n",
       "      <td>1.689333</td>\n",
       "      <td>2.751466</td>\n",
       "    </tr>\n",
       "    <tr>\n",
       "      <th>biogeographicalRegion + metaSubstrate</th>\n",
       "      <td>1.083723</td>\n",
       "      <td>1.479839</td>\n",
       "    </tr>\n",
       "    <tr>\n",
       "      <th>month + biogeographicalRegion + metaSubstrate</th>\n",
       "      <td>1.923077</td>\n",
       "      <td>3.340545</td>\n",
       "    </tr>\n",
       "  </tbody>\n",
       "</table>\n",
       "</div>"
      ],
      "text/plain": [
       "                                                accuracy         f1\n",
       "Vanilla                                         0.000000   0.000000\n",
       "ObservationID                                  11.570336  12.564606\n",
       "month                                           1.168721   1.599317\n",
       "biogeographicalRegion                           0.382490  -0.250434\n",
       "metaSubstrate                                   0.871228   1.698877\n",
       "month + biogeographicalRegion                   1.391840   1.515206\n",
       "month + metaSubstrate                           1.689333   2.751466\n",
       "biogeographicalRegion + metaSubstrate           1.083723   1.479839\n",
       "month + biogeographicalRegion + metaSubstrate   1.923077   3.340545"
      ]
     },
     "execution_count": 25,
     "metadata": {},
     "output_type": "execute_result"
    }
   ],
   "source": [
    "(results_df - results_df.iloc[0, :]) * 100"
   ]
  },
  {
   "cell_type": "code",
   "execution_count": 21,
   "id": "2e92a87e0b27f09f",
   "metadata": {
    "ExecuteTime": {
     "end_time": "2024-08-16T09:58:57.067698Z",
     "start_time": "2024-08-16T09:58:57.017406Z"
    },
    "collapsed": false
   },
   "outputs": [
    {
     "data": {
      "text/plain": [
       "accuracy    0.810242\n",
       "f1          0.560898\n",
       "Name: Vanilla, dtype: float64"
      ]
     },
     "execution_count": 21,
     "metadata": {},
     "output_type": "execute_result"
    }
   ],
   "source": [
    "results_df.iloc[0, :]"
   ]
  },
  {
   "cell_type": "code",
   "execution_count": 22,
   "id": "d97d8ffe7f33cdac",
   "metadata": {
    "ExecuteTime": {
     "end_time": "2024-08-16T10:01:44.151580Z",
     "start_time": "2024-08-16T09:58:57.039211Z"
    },
    "collapsed": false
   },
   "outputs": [
    {
     "name": "stderr",
     "output_type": "stream",
     "text": [
      "  0%|          | 0/148 [00:00<?, ?it/s]INFO:albumentations.check_version:A new version of Albumentations is available: 1.4.14 (you have 1.4.13). Upgrade using: pip install -U albumentations. To disable automatic update checks, set the environment variable NO_ALBUMENTATIONS_UPDATE to 1.\n",
      "INFO:albumentations.check_version:A new version of Albumentations is available: 1.4.14 (you have 1.4.13). Upgrade using: pip install -U albumentations. To disable automatic update checks, set the environment variable NO_ALBUMENTATIONS_UPDATE to 1.\n",
      "INFO:albumentations.check_version:A new version of Albumentations is available: 1.4.14 (you have 1.4.13). Upgrade using: pip install -U albumentations. To disable automatic update checks, set the environment variable NO_ALBUMENTATIONS_UPDATE to 1.\n",
      "INFO:albumentations.check_version:A new version of Albumentations is available: 1.4.14 (you have 1.4.13). Upgrade using: pip install -U albumentations. To disable automatic update checks, set the environment variable NO_ALBUMENTATIONS_UPDATE to 1.\n",
      "INFO:albumentations.check_version:A new version of Albumentations is available: 1.4.14 (you have 1.4.13). Upgrade using: pip install -U albumentations. To disable automatic update checks, set the environment variable NO_ALBUMENTATIONS_UPDATE to 1.\n",
      "INFO:albumentations.check_version:A new version of Albumentations is available: 1.4.14 (you have 1.4.13). Upgrade using: pip install -U albumentations. To disable automatic update checks, set the environment variable NO_ALBUMENTATIONS_UPDATE to 1.\n",
      "INFO:albumentations.check_version:A new version of Albumentations is available: 1.4.14 (you have 1.4.13). Upgrade using: pip install -U albumentations. To disable automatic update checks, set the environment variable NO_ALBUMENTATIONS_UPDATE to 1.\n",
      "INFO:albumentations.check_version:A new version of Albumentations is available: 1.4.14 (you have 1.4.13). Upgrade using: pip install -U albumentations. To disable automatic update checks, set the environment variable NO_ALBUMENTATIONS_UPDATE to 1.\n",
      "100%|██████████| 148/148 [02:27<00:00,  1.01it/s]\n",
      "100%|██████████| 9412/9412 [00:04<00:00, 2239.80it/s]\n",
      "100%|██████████| 9412/9412 [00:03<00:00, 2391.52it/s]\n",
      "100%|██████████| 9412/9412 [00:04<00:00, 2303.53it/s]\n",
      "/opt/homebrew/Caskroom/miniforge/base/lib/python3.9/site-packages/numpy/core/fromnumeric.py:59: FutureWarning: The behavior of Series.argmax/argmin with skipna=False and NAs, or with all-NAs is deprecated. In a future version this will raise ValueError.\n",
      "  return bound(*args, **kwds)\n"
     ]
    },
    {
     "ename": "ValueError",
     "evalue": "Number of classes in 'y_true' (193) not equal to the number of classes in 'y_score' (215).You can provide a list of all known classes by assigning it to the `labels` parameter.",
     "output_type": "error",
     "traceback": [
      "\u001b[0;31m---------------------------------------------------------------------------\u001b[0m",
      "\u001b[0;31mValueError\u001b[0m                                Traceback (most recent call last)",
      "Cell \u001b[0;32mIn[22], line 3\u001b[0m\n\u001b[1;32m      1\u001b[0m \u001b[38;5;28;01mfrom\u001b[39;00m \u001b[38;5;21;01mutils\u001b[39;00m\u001b[38;5;21;01m.\u001b[39;00m\u001b[38;5;21;01mmatadata_processing\u001b[39;00m \u001b[38;5;28;01mimport\u001b[39;00m late_metadata_fusion\n\u001b[0;32m----> 3\u001b[0m \u001b[43mlate_metadata_fusion\u001b[49m\u001b[43m(\u001b[49m\n\u001b[1;32m      4\u001b[0m \u001b[43m    \u001b[49m\u001b[43mmetadata\u001b[49m\u001b[43m,\u001b[49m\n\u001b[1;32m      5\u001b[0m \u001b[43m    \u001b[49m\u001b[43mmodel\u001b[49m\u001b[43m,\u001b[49m\n\u001b[1;32m      6\u001b[0m \u001b[43m    \u001b[49m\u001b[43mtest_loader\u001b[49m\u001b[43m,\u001b[49m\n\u001b[1;32m      7\u001b[0m \u001b[43m    \u001b[49m\u001b[43mdevice\u001b[49m\u001b[43m,\u001b[49m\n\u001b[1;32m      8\u001b[0m \u001b[43m    \u001b[49m\u001b[43mTARGET_FEATURE\u001b[49m\u001b[43m,\u001b[49m\n\u001b[1;32m      9\u001b[0m \u001b[43m    \u001b[49m\u001b[43mSELECTED_FEATURES\u001b[49m\n\u001b[1;32m     10\u001b[0m \u001b[43m)\u001b[49m\n",
      "File \u001b[0;32m~/Documents/FungiTastic/inference/utils/matadata_processing.py:92\u001b[0m, in \u001b[0;36mlate_metadata_fusion\u001b[0;34m(df, model, dataloader, device, target_feature, selected_features)\u001b[0m\n\u001b[1;32m     89\u001b[0m     _predictions \u001b[38;5;241m=\u001b[39m _weighted_predictions[\u001b[38;5;124m\"\u001b[39m\u001b[38;5;124mpredictions\u001b[39m\u001b[38;5;124m\"\u001b[39m]\n\u001b[1;32m     90\u001b[0m     _predictions_raw \u001b[38;5;241m=\u001b[39m _weighted_predictions[\u001b[38;5;124m\"\u001b[39m\u001b[38;5;124mpredictions_raw\u001b[39m\u001b[38;5;124m\"\u001b[39m]\n\u001b[1;32m     91\u001b[0m     \u001b[38;5;28mprint\u001b[39m(\n\u001b[0;32m---> 92\u001b[0m         \u001b[43mget_metrics\u001b[49m\u001b[43m(\u001b[49m\u001b[43mground_truth_labels\u001b[49m\u001b[43m,\u001b[49m\u001b[43m \u001b[49m\u001b[43m_predictions\u001b[49m\u001b[43m,\u001b[49m\u001b[43m \u001b[49m\u001b[43m_predictions_raw\u001b[49m\u001b[43m)\u001b[49m,\n\u001b[1;32m     93\u001b[0m     )\n\u001b[1;32m     95\u001b[0m \u001b[38;5;28;01mreturn\u001b[39;00m weighted_predictions_complete\n",
      "File \u001b[0;32m~/Documents/FungiTastic/inference/utils/matadata_processing.py:354\u001b[0m, in \u001b[0;36mget_metrics\u001b[0;34m(ground_truth_labels, predictions, predictions_raw)\u001b[0m\n\u001b[1;32m    352\u001b[0m f1 \u001b[38;5;241m=\u001b[39m f1_score(ground_truth_labels, predictions, average\u001b[38;5;241m=\u001b[39m\u001b[38;5;124m\"\u001b[39m\u001b[38;5;124mmacro\u001b[39m\u001b[38;5;124m\"\u001b[39m)\n\u001b[1;32m    353\u001b[0m accuracy \u001b[38;5;241m=\u001b[39m accuracy_score(ground_truth_labels, predictions)\n\u001b[0;32m--> 354\u001b[0m recall_3 \u001b[38;5;241m=\u001b[39m \u001b[43mtop_k_accuracy_score\u001b[49m\u001b[43m(\u001b[49m\u001b[43mground_truth_labels\u001b[49m\u001b[43m,\u001b[49m\u001b[43m \u001b[49m\u001b[43mpredictions_raw\u001b[49m\u001b[43m,\u001b[49m\u001b[43m \u001b[49m\u001b[43mk\u001b[49m\u001b[38;5;241;43m=\u001b[39;49m\u001b[38;5;241;43m3\u001b[39;49m\u001b[43m)\u001b[49m\n\u001b[1;32m    355\u001b[0m \u001b[38;5;28;01mreturn\u001b[39;00m f1, accuracy, recall_3\n",
      "File \u001b[0;32m/opt/homebrew/Caskroom/miniforge/base/lib/python3.9/site-packages/sklearn/utils/_param_validation.py:213\u001b[0m, in \u001b[0;36mvalidate_params.<locals>.decorator.<locals>.wrapper\u001b[0;34m(*args, **kwargs)\u001b[0m\n\u001b[1;32m    207\u001b[0m \u001b[38;5;28;01mtry\u001b[39;00m:\n\u001b[1;32m    208\u001b[0m     \u001b[38;5;28;01mwith\u001b[39;00m config_context(\n\u001b[1;32m    209\u001b[0m         skip_parameter_validation\u001b[38;5;241m=\u001b[39m(\n\u001b[1;32m    210\u001b[0m             prefer_skip_nested_validation \u001b[38;5;129;01mor\u001b[39;00m global_skip_validation\n\u001b[1;32m    211\u001b[0m         )\n\u001b[1;32m    212\u001b[0m     ):\n\u001b[0;32m--> 213\u001b[0m         \u001b[38;5;28;01mreturn\u001b[39;00m \u001b[43mfunc\u001b[49m\u001b[43m(\u001b[49m\u001b[38;5;241;43m*\u001b[39;49m\u001b[43margs\u001b[49m\u001b[43m,\u001b[49m\u001b[43m \u001b[49m\u001b[38;5;241;43m*\u001b[39;49m\u001b[38;5;241;43m*\u001b[39;49m\u001b[43mkwargs\u001b[49m\u001b[43m)\u001b[49m\n\u001b[1;32m    214\u001b[0m \u001b[38;5;28;01mexcept\u001b[39;00m InvalidParameterError \u001b[38;5;28;01mas\u001b[39;00m e:\n\u001b[1;32m    215\u001b[0m     \u001b[38;5;66;03m# When the function is just a wrapper around an estimator, we allow\u001b[39;00m\n\u001b[1;32m    216\u001b[0m     \u001b[38;5;66;03m# the function to delegate validation to the estimator, but we replace\u001b[39;00m\n\u001b[1;32m    217\u001b[0m     \u001b[38;5;66;03m# the name of the estimator by the name of the function in the error\u001b[39;00m\n\u001b[1;32m    218\u001b[0m     \u001b[38;5;66;03m# message to avoid confusion.\u001b[39;00m\n\u001b[1;32m    219\u001b[0m     msg \u001b[38;5;241m=\u001b[39m re\u001b[38;5;241m.\u001b[39msub(\n\u001b[1;32m    220\u001b[0m         \u001b[38;5;124mr\u001b[39m\u001b[38;5;124m\"\u001b[39m\u001b[38;5;124mparameter of \u001b[39m\u001b[38;5;124m\\\u001b[39m\u001b[38;5;124mw+ must be\u001b[39m\u001b[38;5;124m\"\u001b[39m,\n\u001b[1;32m    221\u001b[0m         \u001b[38;5;124mf\u001b[39m\u001b[38;5;124m\"\u001b[39m\u001b[38;5;124mparameter of \u001b[39m\u001b[38;5;132;01m{\u001b[39;00mfunc\u001b[38;5;241m.\u001b[39m\u001b[38;5;18m__qualname__\u001b[39m\u001b[38;5;132;01m}\u001b[39;00m\u001b[38;5;124m must be\u001b[39m\u001b[38;5;124m\"\u001b[39m,\n\u001b[1;32m    222\u001b[0m         \u001b[38;5;28mstr\u001b[39m(e),\n\u001b[1;32m    223\u001b[0m     )\n",
      "File \u001b[0;32m/opt/homebrew/Caskroom/miniforge/base/lib/python3.9/site-packages/sklearn/metrics/_ranking.py:1960\u001b[0m, in \u001b[0;36mtop_k_accuracy_score\u001b[0;34m(y_true, y_score, k, normalize, sample_weight, labels)\u001b[0m\n\u001b[1;32m   1957\u001b[0m     n_classes \u001b[38;5;241m=\u001b[39m \u001b[38;5;28mlen\u001b[39m(classes)\n\u001b[1;32m   1959\u001b[0m     \u001b[38;5;28;01mif\u001b[39;00m n_classes \u001b[38;5;241m!=\u001b[39m y_score_n_classes:\n\u001b[0;32m-> 1960\u001b[0m         \u001b[38;5;28;01mraise\u001b[39;00m \u001b[38;5;167;01mValueError\u001b[39;00m(\n\u001b[1;32m   1961\u001b[0m             \u001b[38;5;124mf\u001b[39m\u001b[38;5;124m\"\u001b[39m\u001b[38;5;124mNumber of classes in \u001b[39m\u001b[38;5;124m'\u001b[39m\u001b[38;5;124my_true\u001b[39m\u001b[38;5;124m'\u001b[39m\u001b[38;5;124m (\u001b[39m\u001b[38;5;132;01m{\u001b[39;00mn_classes\u001b[38;5;132;01m}\u001b[39;00m\u001b[38;5;124m) not equal \u001b[39m\u001b[38;5;124m\"\u001b[39m\n\u001b[1;32m   1962\u001b[0m             \u001b[38;5;124mf\u001b[39m\u001b[38;5;124m\"\u001b[39m\u001b[38;5;124mto the number of classes in \u001b[39m\u001b[38;5;124m'\u001b[39m\u001b[38;5;124my_score\u001b[39m\u001b[38;5;124m'\u001b[39m\u001b[38;5;124m (\u001b[39m\u001b[38;5;132;01m{\u001b[39;00my_score_n_classes\u001b[38;5;132;01m}\u001b[39;00m\u001b[38;5;124m).\u001b[39m\u001b[38;5;124m\"\u001b[39m\n\u001b[1;32m   1963\u001b[0m             \u001b[38;5;124m\"\u001b[39m\u001b[38;5;124mYou can provide a list of all known classes by assigning it \u001b[39m\u001b[38;5;124m\"\u001b[39m\n\u001b[1;32m   1964\u001b[0m             \u001b[38;5;124m\"\u001b[39m\u001b[38;5;124mto the `labels` parameter.\u001b[39m\u001b[38;5;124m\"\u001b[39m\n\u001b[1;32m   1965\u001b[0m         )\n\u001b[1;32m   1966\u001b[0m \u001b[38;5;28;01melse\u001b[39;00m:\n\u001b[1;32m   1967\u001b[0m     labels \u001b[38;5;241m=\u001b[39m column_or_1d(labels)\n",
      "\u001b[0;31mValueError\u001b[0m: Number of classes in 'y_true' (193) not equal to the number of classes in 'y_score' (215).You can provide a list of all known classes by assigning it to the `labels` parameter."
     ]
    }
   ],
   "source": [
    "from utils.matadata_processing import late_metadata_fusion\n",
    "\n",
    "late_metadata_fusion(\n",
    "    metadata,\n",
    "    model,\n",
    "    test_loader,\n",
    "    device,\n",
    "    TARGET_FEATURE,\n",
    "    SELECTED_FEATURES\n",
    ")"
   ]
  },
  {
   "cell_type": "code",
   "execution_count": null,
   "id": "739ac1f9d84d20db",
   "metadata": {
    "collapsed": false
   },
   "outputs": [],
   "source": []
  }
 ],
 "metadata": {
  "kernelspec": {
   "display_name": ".dataset_demo_venv",
   "language": "python",
   "name": "python3"
  },
  "language_info": {
   "codemirror_mode": {
    "name": "ipython",
    "version": 3
   },
   "file_extension": ".py",
   "mimetype": "text/x-python",
   "name": "python",
   "nbconvert_exporter": "python",
   "pygments_lexer": "ipython3",
   "version": "3.12.11"
  }
 },
 "nbformat": 4,
 "nbformat_minor": 5
}
