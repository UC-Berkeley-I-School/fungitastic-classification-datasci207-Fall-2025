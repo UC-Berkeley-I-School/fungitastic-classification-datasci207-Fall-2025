{
 "cells": [
  {
   "cell_type": "code",
   "execution_count": 1,
   "id": "3354cfc1-8399-442c-8ed6-ed2a45a971d0",
   "metadata": {
    "tags": []
   },
   "outputs": [],
   "source": [
    "import os\n",
    "import pandas as pd\n",
    "import warnings\n",
    "\n",
    "warnings.filterwarnings(\"ignore\")"
   ]
  },
  {
   "cell_type": "code",
   "execution_count": 2,
   "id": "da809bb787e9e9ae",
   "metadata": {
    "collapsed": false,
    "jupyter": {
     "outputs_hidden": false
    },
    "tags": []
   },
   "outputs": [
    {
     "name": "stdout",
     "output_type": "stream",
     "text": [
      "zsh:1: command not found: nvidia-smi\n"
     ]
    }
   ],
   "source": [
    "!nvidia-smi"
   ]
  },
  {
   "cell_type": "markdown",
   "id": "9ff61ec2-0d15-497e-9ce6-1dd84522836e",
   "metadata": {},
   "source": [
    "## Download image data using provided download CLI\n",
    "Below we download all metadata and resized images (500p) for a FungiTastic-Mini subset."
   ]
  },
  {
   "cell_type": "code",
   "execution_count": null,
   "id": "ba6f4b64-2096-4eb2-a49b-a395f1da69ee",
   "metadata": {
    "tags": []
   },
   "outputs": [
    {
     "name": "stdout",
     "output_type": "stream",
     "text": [
      "Download:\n",
      "\tDownloading from https://cmp.felk.cvut.cz/datagrid/FungiTastic/shared/download/metadata.zip to FungiTastic/metadata\n",
      "Downloading https://cmp.felk.cvut.cz/datagrid/FungiTastic/shared/download/metadata.zip to FungiTastic/metadata.zip\n",
      "Command: ['curl', '-L', '-o', 'FungiTastic/metadata.zip', 'https://cmp.felk.cvut.cz/datagrid/FungiTastic/shared/download/metadata.zip']\n",
      "  % Total    % Received % Xferd  Average Speed   Time    Time     Time  Current\n",
      "                                 Dload  Upload   Total   Spent    Left  Speed\n",
      "100 29.6M  100 29.6M    0     0  1179k      0  0:00:25  0:00:23  0:00:02 1364k  0:00:35  0:00:10  0:00:25 1040k00:27  0:00:17  0:00:10 1671k   0  1145k      0  0:00:26  0:00:19  0:00:07 1586k 0  1175k      0  0:00:25  0:00:24  0:00:01 1296k   0  1177k      0  0:00:25  0:00:25 --:--:-- 1275k\n",
      "\tDownload of https://cmp.felk.cvut.cz/datagrid/FungiTastic/shared/download/metadata.zip complete\n",
      "\n",
      "Extract:\n",
      "\tExtracting FungiTastic/metadata.zip\n",
      "\tUnzipped to FungiTastic/metadata\n",
      "\n",
      "Cleanup:\n",
      "\tRemoving the zip file FungiTastic/metadata.zip\n",
      "\tRemoved FungiTastic/metadata.zip\n",
      "Download:\n",
      "\tDownloading from https://cmp.felk.cvut.cz/datagrid/FungiTastic/shared/download/FungiTastic-Mini-train-500p.zip to FungiTastic\n",
      "Downloading https://cmp.felk.cvut.cz/datagrid/FungiTastic/shared/download/FungiTastic-Mini-train-500p.zip to FungiTastic/FungiTastic-Mini-train-500p.zip\n",
      "Command: ['curl', '-L', '-o', 'FungiTastic/FungiTastic-Mini-train-500p.zip', 'https://cmp.felk.cvut.cz/datagrid/FungiTastic/shared/download/FungiTastic-Mini-train-500p.zip']\n",
      "  % Total    % Received % Xferd  Average Speed   Time    Time     Time  Current\n",
      "                                 Dload  Upload   Total   Spent    Left  Speed\n",
      "100 2287M  100 2287M    0     0  2639k      0  0:14:47  0:14:47 --:--:-- 5935k0:00:28  0:27:53 2619k29  0:25:34 3284k7k      0  0:17:17  0:00:35  0:16:42 6051k0     0  2796k      0  0:13:57  0:00:43  0:13:14 4393k0  0:13:22  0:00:46  0:12:36 4654kM    0     0  3618k      0  0:10:47  0:01:17  0:09:30 2729k2:10 1397k 0  0:15:00  0:02:14  0:12:46  688k    0  2549k      0  0:15:18  0:02:18  0:13:00  751k0     0  2498k      0  0:15:37  0:02:22  0:13:15  742kk6:40  0:03:02  0:13:38 3944k13  0:12:31 5177k  0:04:22  0:11:10 1042k26  714kM   28  663M    0     0  2351k      0  0:16:36  0:04:48  0:11:48  671k:16:22  0:05:22  0:11:00  649k   0  0:16:32  0:05:26  0:11:06  547k233k      0  0:17:28  0:05:53  0:11:35  509k   0  2222k      0  0:17:33  0:05:55  0:11:38  473k    0  2174k      0  0:17:57  0:06:19  0:11:38 1558k 0  0:17:51  0:06:32  0:11:19 2903k17:47  0:06:37  0:11:10 2927k131k      0  0:18:19  0:07:12  0:11:07 1752k2114k      0  0:18:28  0:07:21  0:11:07 1263k0  2110k      0  0:18:29  0:07:24  0:11:05 1485k  0     0  2112k      0  0:18:29  0:07:31  0:10:58 2484k  46 1072M    0     0  2225k      0  0:17:32  0:08:13  0:09:19 5422k221k      0  0:17:34  0:08:23  0:09:11 2023k  0  2230k      0  0:17:30  0:08:28  0:09:02 3180k0     0  2222k      0  0:17:34  0:08:38  0:08:56 1661k52 2287M   52 1208M    0     0  2243k      0  0:17:24  0:09:11  0:08:13 2344k 0:07:35 4246k7  0:10:07  0:07:10 1951k 0:16:15  0:10:53  0:05:22 6830k      0  0:16:01  0:10:59  0:05:02 6037k0:12:56  0:02:00 1222k  2608k      0  0:14:57  0:13:00  0:01:57 1469k2628k      0  0:14:51  0:13:18  0:01:33 2560k0     0  2651k      0  0:14:43  0:13:58  0:00:45 4677k\n",
      "\tDownload of https://cmp.felk.cvut.cz/datagrid/FungiTastic/shared/download/FungiTastic-Mini-train-500p.zip complete\n",
      "\n",
      "Extract:\n",
      "\tExtracting FungiTastic/FungiTastic-Mini-train-500p.zip\n",
      "\tUnzipped to FungiTastic\n",
      "\n",
      "Cleanup:\n",
      "\tRemoving the zip file FungiTastic/FungiTastic-Mini-train-500p.zip\n",
      "\tRemoved FungiTastic/FungiTastic-Mini-train-500p.zip\n",
      "Download:\n",
      "\tDownloading from https://cmp.felk.cvut.cz/datagrid/FungiTastic/shared/download/FungiTastic-Mini-val-500p.zip to FungiTastic\n",
      "Downloading https://cmp.felk.cvut.cz/datagrid/FungiTastic/shared/download/FungiTastic-Mini-val-500p.zip to FungiTastic/FungiTastic-Mini-val-500p.zip\n",
      "Command: ['curl', '-L', '-o', 'FungiTastic/FungiTastic-Mini-val-500p.zip', 'https://cmp.felk.cvut.cz/datagrid/FungiTastic/shared/download/FungiTastic-Mini-val-500p.zip']\n",
      "  % Total    % Received % Xferd  Average Speed   Time    Time     Time  Current\n",
      "                                 Dload  Upload   Total   Spent    Left  Speed\n",
      "100  540M  100  540M    0     0  6774k      0  0:01:21  0:01:21 --:--:-- 10.9MM    0     0  2910k      0  0:03:10  0:00:36  0:02:34 6608k 0:01:36  0:01:05  0:00:31 10.9M\n",
      "\tDownload of https://cmp.felk.cvut.cz/datagrid/FungiTastic/shared/download/FungiTastic-Mini-val-500p.zip complete\n",
      "\n",
      "Extract:\n",
      "\tExtracting FungiTastic/FungiTastic-Mini-val-500p.zip\n",
      "\tUnzipped to FungiTastic\n",
      "\n",
      "Cleanup:\n",
      "\tRemoving the zip file FungiTastic/FungiTastic-Mini-val-500p.zip\n",
      "\tRemoved FungiTastic/FungiTastic-Mini-val-500p.zip\n",
      "Download:\n",
      "\tDownloading from https://cmp.felk.cvut.cz/datagrid/FungiTastic/shared/download/FungiTastic-Mini-test-500p.zip to FungiTastic\n",
      "Downloading https://cmp.felk.cvut.cz/datagrid/FungiTastic/shared/download/FungiTastic-Mini-test-500p.zip to FungiTastic/FungiTastic-Mini-test-500p.zip\n",
      "Command: ['curl', '-L', '-o', 'FungiTastic/FungiTastic-Mini-test-500p.zip', 'https://cmp.felk.cvut.cz/datagrid/FungiTastic/shared/download/FungiTastic-Mini-test-500p.zip']\n",
      "  % Total    % Received % Xferd  Average Speed   Time    Time     Time  Current\n",
      "                                 Dload  Upload   Total   Spent    Left  Speed\n",
      "100  667M  100  667M    0     0  2487k      0  0:04:34  0:04:34 --:--:-- 1577k  6305k      0  0:01:48  0:00:30  0:01:18 5576k 0  0:02:10  0:00:51  0:01:19 2993k75k      0  0:02:32  0:01:10  0:01:22 1252k   0  3512k      0  0:03:14  0:01:52  0:01:22 1456kM    0     0  3320k      0  0:03:25  0:02:01  0:01:24  680k093k      0  0:03:40  0:02:12  0:01:28  518k2893k      0  0:03:56  0:02:25  0:01:31 1214k12  0:02:44  0:01:28  865k  0  0:04:26  0:02:58  0:01:28  904k 2533k      0  0:04:29  0:03:03  0:01:26 1615k  91  609M    0     0  2610k      0  0:04:21  0:03:59  0:00:22 2231k4:30  0:04:24  0:00:06 1228k\n",
      "\tDownload of https://cmp.felk.cvut.cz/datagrid/FungiTastic/shared/download/FungiTastic-Mini-test-500p.zip complete\n",
      "\n",
      "Extract:\n",
      "\tExtracting FungiTastic/FungiTastic-Mini-test-500p.zip\n",
      "\tUnzipped to FungiTastic\n",
      "\n",
      "Cleanup:\n",
      "\tRemoving the zip file FungiTastic/FungiTastic-Mini-test-500p.zip\n",
      "\tRemoved FungiTastic/FungiTastic-Mini-test-500p.zip\n",
      "Download:\n",
      "\tDownloading from https://cmp.felk.cvut.cz/datagrid/FungiTastic/shared/download/FungiTastic-Mini-dna-test-500p.zip to FungiTastic\n",
      "Downloading https://cmp.felk.cvut.cz/datagrid/FungiTastic/shared/download/FungiTastic-Mini-dna-test-500p.zip to FungiTastic/FungiTastic-Mini-dna-test-500p.zip\n",
      "Command: ['curl', '-L', '-o', 'FungiTastic/FungiTastic-Mini-dna-test-500p.zip', 'https://cmp.felk.cvut.cz/datagrid/FungiTastic/shared/download/FungiTastic-Mini-dna-test-500p.zip']\n",
      "  % Total    % Received % Xferd  Average Speed   Time    Time     Time  Current\n",
      "                                 Dload  Upload   Total   Spent    Left  Speed\n",
      "100 24.1M  100 24.1M    0     0   487k      0  0:00:50  0:00:50 --:--:--  826k 0:01:10  0:00:22  0:00:48  729k496k\n",
      "\tDownload of https://cmp.felk.cvut.cz/datagrid/FungiTastic/shared/download/FungiTastic-Mini-dna-test-500p.zip complete\n",
      "\n",
      "Extract:\n",
      "\tExtracting FungiTastic/FungiTastic-Mini-dna-test-500p.zip\n",
      "\tUnzipped to FungiTastic\n",
      "\n",
      "Cleanup:\n",
      "\tRemoving the zip file FungiTastic/FungiTastic-Mini-dna-test-500p.zip\n",
      "\tRemoved FungiTastic/FungiTastic-Mini-dna-test-500p.zip\n"
     ]
    }
   ],
   "source": [
    "# !python ../../dataset/download.py --metadata --images --subset \"m\" --size \"500\" --save_path \"./\""
   ]
  },
  {
   "cell_type": "code",
   "execution_count": 3,
   "id": "5d64680e-dd0c-4d4d-91ba-2c7b9e96d7af",
   "metadata": {
    "tags": []
   },
   "outputs": [
    {
     "name": "stdout",
     "output_type": "stream",
     "text": [
      "FungiTastic-Mini-ClosedSet-Test.csv FungiTastic-Mini-OpenSet-Test.csv\n",
      "FungiTastic-Mini-ClosedSet-Val.csv  FungiTastic-Mini-OpenSet-Val.csv\n",
      "FungiTastic-Mini-DNA-Test.csv       FungiTastic-Mini-Train.csv\n"
     ]
    }
   ],
   "source": [
    "!ls ./FungiTastic/metadata/FungiTastic-Mini/"
   ]
  },
  {
   "cell_type": "code",
   "execution_count": 4,
   "id": "c0896204-579d-4829-9ff4-835f182e3e3e",
   "metadata": {
    "tags": []
   },
   "outputs": [
    {
     "name": "stdout",
     "output_type": "stream",
     "text": [
      "\u001b[34mdna-test\u001b[m\u001b[m \u001b[34mtest\u001b[m\u001b[m     \u001b[34mtrain\u001b[m\u001b[m    \u001b[34mval\u001b[m\u001b[m\n"
     ]
    }
   ],
   "source": [
    "!ls ./FungiTastic/FungiTastic-Mini"
   ]
  },
  {
   "cell_type": "markdown",
   "id": "d7a0520ec10736f",
   "metadata": {},
   "source": [
    "## Load and preprocess metadata"
   ]
  },
  {
   "cell_type": "code",
   "execution_count": 5,
   "id": "f31f8bb8",
   "metadata": {},
   "outputs": [
    {
     "name": "stdout",
     "output_type": "stream",
     "text": [
      "/Users/jeremycui/Documents/UCB_MIDS/DATASCI207/fungitastic-classification-datasci207-Fall-2025/baselines/closed_set\n"
     ]
    }
   ],
   "source": [
    "print(os.getcwd())"
   ]
  },
  {
   "cell_type": "code",
   "execution_count": 6,
   "id": "170ded66-a4e2-4076-a31c-875bf6ecac9f",
   "metadata": {
    "tags": []
   },
   "outputs": [],
   "source": [
    "BASE_METADATA_PATH = f\"{os.getcwd()}/FungiTastic/metadata/FungiTastic-Mini/\"\n",
    "\n",
    "train_df = pd.read_csv(f\"{BASE_METADATA_PATH}FungiTastic-Mini-Train.csv\")\n",
    "val_df = pd.read_csv(f\"{BASE_METADATA_PATH}FungiTastic-Mini-ClosedSet-Val.csv\")\n",
    "test_df = pd.read_csv(f\"{BASE_METADATA_PATH}FungiTastic-Mini-ClosedSet-Test.csv\")"
   ]
  },
  {
   "cell_type": "code",
   "execution_count": 7,
   "id": "a841d370",
   "metadata": {},
   "outputs": [
    {
     "data": {
      "text/html": [
       "<div>\n",
       "<style scoped>\n",
       "    .dataframe tbody tr th:only-of-type {\n",
       "        vertical-align: middle;\n",
       "    }\n",
       "\n",
       "    .dataframe tbody tr th {\n",
       "        vertical-align: top;\n",
       "    }\n",
       "\n",
       "    .dataframe thead th {\n",
       "        text-align: right;\n",
       "    }\n",
       "</style>\n",
       "<table border=\"1\" class=\"dataframe\">\n",
       "  <thead>\n",
       "    <tr style=\"text-align: right;\">\n",
       "      <th></th>\n",
       "      <th>eventDate</th>\n",
       "      <th>year</th>\n",
       "      <th>month</th>\n",
       "      <th>day</th>\n",
       "      <th>habitat</th>\n",
       "      <th>countryCode</th>\n",
       "      <th>scientificName</th>\n",
       "      <th>kingdom</th>\n",
       "      <th>phylum</th>\n",
       "      <th>class</th>\n",
       "      <th>...</th>\n",
       "      <th>observationID</th>\n",
       "      <th>region</th>\n",
       "      <th>district</th>\n",
       "      <th>filename</th>\n",
       "      <th>category_id</th>\n",
       "      <th>metaSubstrate</th>\n",
       "      <th>poisonous</th>\n",
       "      <th>elevation</th>\n",
       "      <th>landcover</th>\n",
       "      <th>biogeographicalRegion</th>\n",
       "    </tr>\n",
       "  </thead>\n",
       "  <tbody>\n",
       "    <tr>\n",
       "      <th>0</th>\n",
       "      <td>2021-02-01</td>\n",
       "      <td>2021</td>\n",
       "      <td>2.0</td>\n",
       "      <td>1.0</td>\n",
       "      <td>Mixed woodland (with coniferous and deciduous ...</td>\n",
       "      <td>DK</td>\n",
       "      <td>Mycena tintinnabulum (Paulet) Quél.</td>\n",
       "      <td>Fungi</td>\n",
       "      <td>Basidiomycota</td>\n",
       "      <td>Agaricomycetes</td>\n",
       "      <td>...</td>\n",
       "      <td>3032614317</td>\n",
       "      <td>Sjælland</td>\n",
       "      <td>Næstved</td>\n",
       "      <td>0-3032614317.JPG</td>\n",
       "      <td>119</td>\n",
       "      <td>wood</td>\n",
       "      <td>0</td>\n",
       "      <td>35.0</td>\n",
       "      <td>5.0</td>\n",
       "      <td>continental</td>\n",
       "    </tr>\n",
       "    <tr>\n",
       "      <th>1</th>\n",
       "      <td>2021-02-01</td>\n",
       "      <td>2021</td>\n",
       "      <td>2.0</td>\n",
       "      <td>1.0</td>\n",
       "      <td>Mixed woodland (with coniferous and deciduous ...</td>\n",
       "      <td>DK</td>\n",
       "      <td>Mycena tintinnabulum (Paulet) Quél.</td>\n",
       "      <td>Fungi</td>\n",
       "      <td>Basidiomycota</td>\n",
       "      <td>Agaricomycetes</td>\n",
       "      <td>...</td>\n",
       "      <td>3032614317</td>\n",
       "      <td>Sjælland</td>\n",
       "      <td>Næstved</td>\n",
       "      <td>1-3032614317.JPG</td>\n",
       "      <td>119</td>\n",
       "      <td>wood</td>\n",
       "      <td>0</td>\n",
       "      <td>35.0</td>\n",
       "      <td>5.0</td>\n",
       "      <td>continental</td>\n",
       "    </tr>\n",
       "    <tr>\n",
       "      <th>2</th>\n",
       "      <td>2008-09-01</td>\n",
       "      <td>2008</td>\n",
       "      <td>9.0</td>\n",
       "      <td>1.0</td>\n",
       "      <td>Deciduous woodland</td>\n",
       "      <td>DK</td>\n",
       "      <td>Russula cyanoxantha (Schaeff.) Fr.</td>\n",
       "      <td>Fungi</td>\n",
       "      <td>Basidiomycota</td>\n",
       "      <td>Agaricomycetes</td>\n",
       "      <td>...</td>\n",
       "      <td>3036761318</td>\n",
       "      <td>Midtjylland</td>\n",
       "      <td>Århus</td>\n",
       "      <td>0-3036761318.JPG</td>\n",
       "      <td>144</td>\n",
       "      <td>jord</td>\n",
       "      <td>0</td>\n",
       "      <td>6.0</td>\n",
       "      <td>10.0</td>\n",
       "      <td>continental</td>\n",
       "    </tr>\n",
       "    <tr>\n",
       "      <th>3</th>\n",
       "      <td>2008-09-01</td>\n",
       "      <td>2008</td>\n",
       "      <td>9.0</td>\n",
       "      <td>1.0</td>\n",
       "      <td>Deciduous woodland</td>\n",
       "      <td>DK</td>\n",
       "      <td>Russula cyanoxantha (Schaeff.) Fr.</td>\n",
       "      <td>Fungi</td>\n",
       "      <td>Basidiomycota</td>\n",
       "      <td>Agaricomycetes</td>\n",
       "      <td>...</td>\n",
       "      <td>3036761318</td>\n",
       "      <td>Midtjylland</td>\n",
       "      <td>Århus</td>\n",
       "      <td>1-3036761318.JPG</td>\n",
       "      <td>144</td>\n",
       "      <td>jord</td>\n",
       "      <td>0</td>\n",
       "      <td>6.0</td>\n",
       "      <td>10.0</td>\n",
       "      <td>continental</td>\n",
       "    </tr>\n",
       "    <tr>\n",
       "      <th>4</th>\n",
       "      <td>2008-09-01</td>\n",
       "      <td>2008</td>\n",
       "      <td>9.0</td>\n",
       "      <td>1.0</td>\n",
       "      <td>Deciduous woodland</td>\n",
       "      <td>DK</td>\n",
       "      <td>Russula cyanoxantha (Schaeff.) Fr.</td>\n",
       "      <td>Fungi</td>\n",
       "      <td>Basidiomycota</td>\n",
       "      <td>Agaricomycetes</td>\n",
       "      <td>...</td>\n",
       "      <td>3036761318</td>\n",
       "      <td>Midtjylland</td>\n",
       "      <td>Århus</td>\n",
       "      <td>2-3036761318.JPG</td>\n",
       "      <td>144</td>\n",
       "      <td>jord</td>\n",
       "      <td>0</td>\n",
       "      <td>6.0</td>\n",
       "      <td>10.0</td>\n",
       "      <td>continental</td>\n",
       "    </tr>\n",
       "    <tr>\n",
       "      <th>...</th>\n",
       "      <td>...</td>\n",
       "      <td>...</td>\n",
       "      <td>...</td>\n",
       "      <td>...</td>\n",
       "      <td>...</td>\n",
       "      <td>...</td>\n",
       "      <td>...</td>\n",
       "      <td>...</td>\n",
       "      <td>...</td>\n",
       "      <td>...</td>\n",
       "      <td>...</td>\n",
       "      <td>...</td>\n",
       "      <td>...</td>\n",
       "      <td>...</td>\n",
       "      <td>...</td>\n",
       "      <td>...</td>\n",
       "      <td>...</td>\n",
       "      <td>...</td>\n",
       "      <td>...</td>\n",
       "      <td>...</td>\n",
       "      <td>...</td>\n",
       "    </tr>\n",
       "    <tr>\n",
       "      <th>46837</th>\n",
       "      <td>2021-09-29</td>\n",
       "      <td>2021</td>\n",
       "      <td>9.0</td>\n",
       "      <td>29.0</td>\n",
       "      <td>Unmanaged deciduous woodland</td>\n",
       "      <td>RU</td>\n",
       "      <td>Mycena rosea Gramberg</td>\n",
       "      <td>Fungi</td>\n",
       "      <td>Basidiomycota</td>\n",
       "      <td>Agaricomycetes</td>\n",
       "      <td>...</td>\n",
       "      <td>3429074356</td>\n",
       "      <td>Kaluga</td>\n",
       "      <td>Maloyaroslavetskiy rayon</td>\n",
       "      <td>1-3429074356.JPG</td>\n",
       "      <td>109</td>\n",
       "      <td>jord</td>\n",
       "      <td>1</td>\n",
       "      <td>NaN</td>\n",
       "      <td>NaN</td>\n",
       "      <td>boreal</td>\n",
       "    </tr>\n",
       "    <tr>\n",
       "      <th>46838</th>\n",
       "      <td>2021-09-29</td>\n",
       "      <td>2021</td>\n",
       "      <td>9.0</td>\n",
       "      <td>29.0</td>\n",
       "      <td>Unmanaged deciduous woodland</td>\n",
       "      <td>RU</td>\n",
       "      <td>Mycena rosea Gramberg</td>\n",
       "      <td>Fungi</td>\n",
       "      <td>Basidiomycota</td>\n",
       "      <td>Agaricomycetes</td>\n",
       "      <td>...</td>\n",
       "      <td>3429074356</td>\n",
       "      <td>Kaluga</td>\n",
       "      <td>Maloyaroslavetskiy rayon</td>\n",
       "      <td>2-3429074356.JPG</td>\n",
       "      <td>109</td>\n",
       "      <td>jord</td>\n",
       "      <td>1</td>\n",
       "      <td>NaN</td>\n",
       "      <td>NaN</td>\n",
       "      <td>boreal</td>\n",
       "    </tr>\n",
       "    <tr>\n",
       "      <th>46839</th>\n",
       "      <td>2021-09-27</td>\n",
       "      <td>2021</td>\n",
       "      <td>9.0</td>\n",
       "      <td>27.0</td>\n",
       "      <td>Deciduous woodland</td>\n",
       "      <td>DK</td>\n",
       "      <td>Russula ochroleuca Fr.</td>\n",
       "      <td>Fungi</td>\n",
       "      <td>Basidiomycota</td>\n",
       "      <td>Agaricomycetes</td>\n",
       "      <td>...</td>\n",
       "      <td>4100099773</td>\n",
       "      <td>Hovedstaden</td>\n",
       "      <td>Halsnæs</td>\n",
       "      <td>0-4100099773.JPG</td>\n",
       "      <td>179</td>\n",
       "      <td>jord</td>\n",
       "      <td>0</td>\n",
       "      <td>0.0</td>\n",
       "      <td>17.0</td>\n",
       "      <td>continental</td>\n",
       "    </tr>\n",
       "    <tr>\n",
       "      <th>46840</th>\n",
       "      <td>2021-09-27</td>\n",
       "      <td>2021</td>\n",
       "      <td>9.0</td>\n",
       "      <td>27.0</td>\n",
       "      <td>Deciduous woodland</td>\n",
       "      <td>DK</td>\n",
       "      <td>Russula ochroleuca Fr.</td>\n",
       "      <td>Fungi</td>\n",
       "      <td>Basidiomycota</td>\n",
       "      <td>Agaricomycetes</td>\n",
       "      <td>...</td>\n",
       "      <td>4100099773</td>\n",
       "      <td>Hovedstaden</td>\n",
       "      <td>Halsnæs</td>\n",
       "      <td>1-4100099773.JPG</td>\n",
       "      <td>179</td>\n",
       "      <td>jord</td>\n",
       "      <td>0</td>\n",
       "      <td>0.0</td>\n",
       "      <td>17.0</td>\n",
       "      <td>continental</td>\n",
       "    </tr>\n",
       "    <tr>\n",
       "      <th>46841</th>\n",
       "      <td>1984-09-15</td>\n",
       "      <td>1984</td>\n",
       "      <td>9.0</td>\n",
       "      <td>15.0</td>\n",
       "      <td>Deciduous woodland</td>\n",
       "      <td>DK</td>\n",
       "      <td>Amanita pantherina (DC.) Krombh.</td>\n",
       "      <td>Fungi</td>\n",
       "      <td>Basidiomycota</td>\n",
       "      <td>Agaricomycetes</td>\n",
       "      <td>...</td>\n",
       "      <td>4847339022</td>\n",
       "      <td>Hovedstaden</td>\n",
       "      <td>Rudersdal</td>\n",
       "      <td>0-4847339022.JPG</td>\n",
       "      <td>35</td>\n",
       "      <td>jord</td>\n",
       "      <td>1</td>\n",
       "      <td>70.0</td>\n",
       "      <td>5.0</td>\n",
       "      <td>continental</td>\n",
       "    </tr>\n",
       "  </tbody>\n",
       "</table>\n",
       "<p>46842 rows × 31 columns</p>\n",
       "</div>"
      ],
      "text/plain": [
       "        eventDate  year  month   day  \\\n",
       "0      2021-02-01  2021    2.0   1.0   \n",
       "1      2021-02-01  2021    2.0   1.0   \n",
       "2      2008-09-01  2008    9.0   1.0   \n",
       "3      2008-09-01  2008    9.0   1.0   \n",
       "4      2008-09-01  2008    9.0   1.0   \n",
       "...           ...   ...    ...   ...   \n",
       "46837  2021-09-29  2021    9.0  29.0   \n",
       "46838  2021-09-29  2021    9.0  29.0   \n",
       "46839  2021-09-27  2021    9.0  27.0   \n",
       "46840  2021-09-27  2021    9.0  27.0   \n",
       "46841  1984-09-15  1984    9.0  15.0   \n",
       "\n",
       "                                                 habitat countryCode  \\\n",
       "0      Mixed woodland (with coniferous and deciduous ...          DK   \n",
       "1      Mixed woodland (with coniferous and deciduous ...          DK   \n",
       "2                                     Deciduous woodland          DK   \n",
       "3                                     Deciduous woodland          DK   \n",
       "4                                     Deciduous woodland          DK   \n",
       "...                                                  ...         ...   \n",
       "46837                       Unmanaged deciduous woodland          RU   \n",
       "46838                       Unmanaged deciduous woodland          RU   \n",
       "46839                                 Deciduous woodland          DK   \n",
       "46840                                 Deciduous woodland          DK   \n",
       "46841                                 Deciduous woodland          DK   \n",
       "\n",
       "                            scientificName kingdom         phylum  \\\n",
       "0      Mycena tintinnabulum (Paulet) Quél.   Fungi  Basidiomycota   \n",
       "1      Mycena tintinnabulum (Paulet) Quél.   Fungi  Basidiomycota   \n",
       "2       Russula cyanoxantha (Schaeff.) Fr.   Fungi  Basidiomycota   \n",
       "3       Russula cyanoxantha (Schaeff.) Fr.   Fungi  Basidiomycota   \n",
       "4       Russula cyanoxantha (Schaeff.) Fr.   Fungi  Basidiomycota   \n",
       "...                                    ...     ...            ...   \n",
       "46837                Mycena rosea Gramberg   Fungi  Basidiomycota   \n",
       "46838                Mycena rosea Gramberg   Fungi  Basidiomycota   \n",
       "46839               Russula ochroleuca Fr.   Fungi  Basidiomycota   \n",
       "46840               Russula ochroleuca Fr.   Fungi  Basidiomycota   \n",
       "46841     Amanita pantherina (DC.) Krombh.   Fungi  Basidiomycota   \n",
       "\n",
       "                class  ... observationID       region  \\\n",
       "0      Agaricomycetes  ...    3032614317     Sjælland   \n",
       "1      Agaricomycetes  ...    3032614317     Sjælland   \n",
       "2      Agaricomycetes  ...    3036761318  Midtjylland   \n",
       "3      Agaricomycetes  ...    3036761318  Midtjylland   \n",
       "4      Agaricomycetes  ...    3036761318  Midtjylland   \n",
       "...               ...  ...           ...          ...   \n",
       "46837  Agaricomycetes  ...    3429074356       Kaluga   \n",
       "46838  Agaricomycetes  ...    3429074356       Kaluga   \n",
       "46839  Agaricomycetes  ...    4100099773  Hovedstaden   \n",
       "46840  Agaricomycetes  ...    4100099773  Hovedstaden   \n",
       "46841  Agaricomycetes  ...    4847339022  Hovedstaden   \n",
       "\n",
       "                       district          filename  category_id metaSubstrate  \\\n",
       "0                       Næstved  0-3032614317.JPG          119          wood   \n",
       "1                       Næstved  1-3032614317.JPG          119          wood   \n",
       "2                         Århus  0-3036761318.JPG          144          jord   \n",
       "3                         Århus  1-3036761318.JPG          144          jord   \n",
       "4                         Århus  2-3036761318.JPG          144          jord   \n",
       "...                         ...               ...          ...           ...   \n",
       "46837  Maloyaroslavetskiy rayon  1-3429074356.JPG          109          jord   \n",
       "46838  Maloyaroslavetskiy rayon  2-3429074356.JPG          109          jord   \n",
       "46839                   Halsnæs  0-4100099773.JPG          179          jord   \n",
       "46840                   Halsnæs  1-4100099773.JPG          179          jord   \n",
       "46841                 Rudersdal  0-4847339022.JPG           35          jord   \n",
       "\n",
       "      poisonous elevation  landcover  biogeographicalRegion  \n",
       "0             0      35.0        5.0            continental  \n",
       "1             0      35.0        5.0            continental  \n",
       "2             0       6.0       10.0            continental  \n",
       "3             0       6.0       10.0            continental  \n",
       "4             0       6.0       10.0            continental  \n",
       "...         ...       ...        ...                    ...  \n",
       "46837         1       NaN        NaN                 boreal  \n",
       "46838         1       NaN        NaN                 boreal  \n",
       "46839         0       0.0       17.0            continental  \n",
       "46840         0       0.0       17.0            continental  \n",
       "46841         1      70.0        5.0            continental  \n",
       "\n",
       "[46842 rows x 31 columns]"
      ]
     },
     "execution_count": 7,
     "metadata": {},
     "output_type": "execute_result"
    }
   ],
   "source": [
    "train_df"
   ]
  },
  {
   "cell_type": "markdown",
   "id": "394e4926-dff6-48d9-b24a-cc503ac42d33",
   "metadata": {
    "tags": []
   },
   "source": [
    "### Setting image_path to the images."
   ]
  },
  {
   "cell_type": "code",
   "execution_count": 8,
   "id": "cb17161f-7cb1-41b0-84ed-8ee1970fb543",
   "metadata": {
    "tags": []
   },
   "outputs": [],
   "source": [
    "BASE_IMAGE_PATH = \"./FungiTastic/FungiTastic-Mini\"\n",
    "SIZE = \"500p\"\n",
    "\n",
    "train_df[\"image_path\"] = train_df.filename.apply(lambda filename: f\"{BASE_IMAGE_PATH}/train/{SIZE}/{filename}\")\n",
    "val_df[\"image_path\"] = val_df.filename.apply(lambda filename: f\"{BASE_IMAGE_PATH}/val/{SIZE}/{filename}\")"
   ]
  },
  {
   "cell_type": "code",
   "execution_count": null,
   "id": "0fb5d7b2",
   "metadata": {},
   "outputs": [
    {
     "data": {
      "text/plain": [
       "Index(['eventDate', 'year', 'month', 'day', 'habitat', 'countryCode',\n",
       "       'scientificName', 'kingdom', 'phylum', 'class', 'order', 'family',\n",
       "       'genus', 'specificEpithet', 'hasCoordinate', 'species',\n",
       "       'iucnRedListCategory', 'substrate', 'latitude', 'longitude',\n",
       "       'coorUncert', 'observationID', 'region', 'district', 'filename',\n",
       "       'class_id', 'metaSubstrate', 'poisonous', 'elevation', 'landcover',\n",
       "       'biogeographicalRegion', 'image_path'],\n",
       "      dtype='object')"
      ]
     },
     "execution_count": 17,
     "metadata": {},
     "output_type": "execute_result"
    }
   ],
   "source": [
    "train_df"
   ]
  },
  {
   "cell_type": "markdown",
   "id": "5214cc72-f106-4308-a838-8d8457325562",
   "metadata": {},
   "source": [
    "### Update the column name to fit the FGVC expected naming convention and save the updated metadata"
   ]
  },
  {
   "cell_type": "code",
   "execution_count": 10,
   "id": "56fd328e-5e8b-4c13-9c42-6575c8a1cfd0",
   "metadata": {
    "tags": []
   },
   "outputs": [
    {
     "name": "stdout",
     "output_type": "stream",
     "text": [
      "mkdir: metadata: File exists\n"
     ]
    }
   ],
   "source": [
    "!mkdir metadata\n",
    "\n",
    "train_df = train_df.rename(columns={\"category_id\":\"class_id\"})\n",
    "val_df = val_df.rename(columns={\"category_id\":\"class_id\"})\n",
    "\n",
    "train_df.to_csv(\"./metadata/FungiTastic-Mini-Train.csv\", index=None)\n",
    "val_df.to_csv(\"./metadata/FungiTastic-Mini-ClosedSet-Val.csv\", index=None)"
   ]
  },
  {
   "cell_type": "markdown",
   "id": "1b82180d29c8cf70",
   "metadata": {},
   "source": [
    "## Train single model with a config file."
   ]
  },
  {
   "cell_type": "markdown",
   "id": "b67368e494d40cdc",
   "metadata": {},
   "source": [
    "### Environment variables\n",
    "Select which GPU to use and add your WANDB_ENTITY and WANDB_PROJECT you want to log into etc."
   ]
  },
  {
   "cell_type": "code",
   "execution_count": 11,
   "id": "f6fc25be-7c87-4d0c-bbb8-440f0be642b6",
   "metadata": {
    "tags": []
   },
   "outputs": [
    {
     "name": "stdout",
     "output_type": "stream",
     "text": [
      "env: CUDA_DEVICES=0\n",
      "env: WANDB_ENTITY=zcu_cv\n",
      "env: HFHUB_OWNER=BVRA\n",
      "env: WANDB_PROJECT=FungiTastic\n",
      "env: TRAIN_METADATA_PATH=./metadata/FungiTastic-Mini-Train.csv\n",
      "env: VAL_METADATA_PATH=./metadata/FungiTastic-Mini-ClosedSet-Val.csv\n",
      "env: TEST_METADATA_PATH=./metadata/FungiTastic-Mini-ClosedSet-Test.csv\n"
     ]
    }
   ],
   "source": [
    "%env CUDA_DEVICES = 0\n",
    "%env WANDB_ENTITY = zcu_cv\n",
    "%env HFHUB_OWNER = BVRA\n",
    "%env WANDB_PROJECT = FungiTastic\n",
    "%env TRAIN_METADATA_PATH = ./metadata/FungiTastic-Mini-Train.csv\n",
    "%env VAL_METADATA_PATH = ./metadata/FungiTastic-Mini-ClosedSet-Val.csv\n",
    "%env TEST_METADATA_PATH = ./metadata/FungiTastic-Mini-ClosedSet-Test.csv\n",
    "\n",
    "os.environ[\"CUDA_VISIBLE_DEVICES\"] = os.environ[\"CUDA_DEVICES\"]"
   ]
  },
  {
   "cell_type": "code",
   "execution_count": 14,
   "id": "c9a30ac8",
   "metadata": {},
   "outputs": [
    {
     "name": "stdout",
     "output_type": "stream",
     "text": [
      "/Users/jeremycui/Documents/UCB_MIDS/DATASCI207/fungitastic-classification-datasci207-Fall-2025/.dataset_demo_venv/bin/python\n",
      "Collecting wandb\n",
      "  Using cached wandb-0.22.0-py3-none-macosx_12_0_arm64.whl.metadata (10 kB)\n",
      "Collecting click>=8.0.1 (from wandb)\n",
      "  Using cached click-8.3.0-py3-none-any.whl.metadata (2.6 kB)\n",
      "Collecting gitpython!=3.1.29,>=1.0.0 (from wandb)\n",
      "  Using cached gitpython-3.1.45-py3-none-any.whl.metadata (13 kB)\n",
      "Requirement already satisfied: packaging in /Users/jeremycui/Documents/UCB_MIDS/DATASCI207/fungitastic-classification-datasci207-Fall-2025/.dataset_demo_venv/lib/python3.12/site-packages (from wandb) (25.0)\n",
      "Requirement already satisfied: platformdirs in /Users/jeremycui/Documents/UCB_MIDS/DATASCI207/fungitastic-classification-datasci207-Fall-2025/.dataset_demo_venv/lib/python3.12/site-packages (from wandb) (4.4.0)\n",
      "Collecting protobuf!=4.21.0,!=5.28.0,<7,>=3.19.0 (from wandb)\n",
      "  Using cached protobuf-6.32.1-cp39-abi3-macosx_10_9_universal2.whl.metadata (593 bytes)\n",
      "Requirement already satisfied: pydantic<3 in /Users/jeremycui/Documents/UCB_MIDS/DATASCI207/fungitastic-classification-datasci207-Fall-2025/.dataset_demo_venv/lib/python3.12/site-packages (from wandb) (2.11.9)\n",
      "Requirement already satisfied: pyyaml in /Users/jeremycui/Documents/UCB_MIDS/DATASCI207/fungitastic-classification-datasci207-Fall-2025/.dataset_demo_venv/lib/python3.12/site-packages (from wandb) (6.0.2)\n",
      "Requirement already satisfied: requests<3,>=2.0.0 in /Users/jeremycui/Documents/UCB_MIDS/DATASCI207/fungitastic-classification-datasci207-Fall-2025/.dataset_demo_venv/lib/python3.12/site-packages (from wandb) (2.32.5)\n",
      "Collecting sentry-sdk>=2.0.0 (from wandb)\n",
      "  Downloading sentry_sdk-2.39.0-py2.py3-none-any.whl.metadata (10 kB)\n",
      "Requirement already satisfied: typing-extensions<5,>=4.8 in /Users/jeremycui/Documents/UCB_MIDS/DATASCI207/fungitastic-classification-datasci207-Fall-2025/.dataset_demo_venv/lib/python3.12/site-packages (from wandb) (4.15.0)\n",
      "Requirement already satisfied: annotated-types>=0.6.0 in /Users/jeremycui/Documents/UCB_MIDS/DATASCI207/fungitastic-classification-datasci207-Fall-2025/.dataset_demo_venv/lib/python3.12/site-packages (from pydantic<3->wandb) (0.7.0)\n",
      "Requirement already satisfied: pydantic-core==2.33.2 in /Users/jeremycui/Documents/UCB_MIDS/DATASCI207/fungitastic-classification-datasci207-Fall-2025/.dataset_demo_venv/lib/python3.12/site-packages (from pydantic<3->wandb) (2.33.2)\n",
      "Requirement already satisfied: typing-inspection>=0.4.0 in /Users/jeremycui/Documents/UCB_MIDS/DATASCI207/fungitastic-classification-datasci207-Fall-2025/.dataset_demo_venv/lib/python3.12/site-packages (from pydantic<3->wandb) (0.4.1)\n",
      "Requirement already satisfied: charset_normalizer<4,>=2 in /Users/jeremycui/Documents/UCB_MIDS/DATASCI207/fungitastic-classification-datasci207-Fall-2025/.dataset_demo_venv/lib/python3.12/site-packages (from requests<3,>=2.0.0->wandb) (3.4.3)\n",
      "Requirement already satisfied: idna<4,>=2.5 in /Users/jeremycui/Documents/UCB_MIDS/DATASCI207/fungitastic-classification-datasci207-Fall-2025/.dataset_demo_venv/lib/python3.12/site-packages (from requests<3,>=2.0.0->wandb) (3.10)\n",
      "Requirement already satisfied: urllib3<3,>=1.21.1 in /Users/jeremycui/Documents/UCB_MIDS/DATASCI207/fungitastic-classification-datasci207-Fall-2025/.dataset_demo_venv/lib/python3.12/site-packages (from requests<3,>=2.0.0->wandb) (2.5.0)\n",
      "Requirement already satisfied: certifi>=2017.4.17 in /Users/jeremycui/Documents/UCB_MIDS/DATASCI207/fungitastic-classification-datasci207-Fall-2025/.dataset_demo_venv/lib/python3.12/site-packages (from requests<3,>=2.0.0->wandb) (2025.8.3)\n",
      "Collecting gitdb<5,>=4.0.1 (from gitpython!=3.1.29,>=1.0.0->wandb)\n",
      "  Using cached gitdb-4.0.12-py3-none-any.whl.metadata (1.2 kB)\n",
      "Collecting smmap<6,>=3.0.1 (from gitdb<5,>=4.0.1->gitpython!=3.1.29,>=1.0.0->wandb)\n",
      "  Using cached smmap-5.0.2-py3-none-any.whl.metadata (4.3 kB)\n",
      "Using cached wandb-0.22.0-py3-none-macosx_12_0_arm64.whl (18.3 MB)\n",
      "Using cached protobuf-6.32.1-cp39-abi3-macosx_10_9_universal2.whl (426 kB)\n",
      "Using cached click-8.3.0-py3-none-any.whl (107 kB)\n",
      "Using cached gitpython-3.1.45-py3-none-any.whl (208 kB)\n",
      "Using cached gitdb-4.0.12-py3-none-any.whl (62 kB)\n",
      "Using cached smmap-5.0.2-py3-none-any.whl (24 kB)\n",
      "Downloading sentry_sdk-2.39.0-py2.py3-none-any.whl (370 kB)\n",
      "Installing collected packages: smmap, sentry-sdk, protobuf, click, gitdb, gitpython, wandb\n",
      "\u001b[2K   \u001b[90m━━━━━━━━━━━━━━━━━━━━━━━━━━━━━━━━━━━━━━━━\u001b[0m \u001b[32m7/7\u001b[0m [wandb]32m6/7\u001b[0m [wandb]uf]k]\n",
      "\u001b[1A\u001b[2KSuccessfully installed click-8.3.0 gitdb-4.0.12 gitpython-3.1.45 protobuf-6.32.1 sentry-sdk-2.39.0 smmap-5.0.2 wandb-0.22.0\n",
      "\n",
      "\u001b[1m[\u001b[0m\u001b[34;49mnotice\u001b[0m\u001b[1;39;49m]\u001b[0m\u001b[39;49m A new release of pip is available: \u001b[0m\u001b[31;49m25.1.1\u001b[0m\u001b[39;49m -> \u001b[0m\u001b[32;49m25.2\u001b[0m\n",
      "\u001b[1m[\u001b[0m\u001b[34;49mnotice\u001b[0m\u001b[1;39;49m]\u001b[0m\u001b[39;49m To update, run: \u001b[0m\u001b[32;49mpip install --upgrade pip\u001b[0m\n"
     ]
    }
   ],
   "source": [
    "!which python\n",
    "!python -m pip install wandb"
   ]
  },
  {
   "cell_type": "code",
   "execution_count": 16,
   "id": "73d960e3824a024b",
   "metadata": {
    "collapsed": false,
    "jupyter": {
     "outputs_hidden": false
    },
    "tags": []
   },
   "outputs": [
    {
     "name": "stdout",
     "output_type": "stream",
     "text": [
      "(script) INFO: Loading training config.\n",
      "(script) DEBUG: Extra arguments passed to the script: {}\n",
      "(script) INFO: Setting run name: resnet18.a1_in1k-CrossEntropyLoss-light\n",
      "(script) INFO: Using experiment directory: ../runs/resnet18.a1_in1k-CrossEntropyLoss-light/exp2\n",
      "(script) INFO: Using training configuration: {\n",
      "    \"augmentations\": \"light\",\n",
      "    \"image_size\": [\n",
      "        224,\n",
      "        224\n",
      "    ],\n",
      "    \"dataset\": \"FungiTastic-Mini\",\n",
      "    \"architecture\": \"resnet18.a1_in1k\",\n",
      "    \"train\": null,\n",
      "    \"loss\": \"CrossEntropyLoss\",\n",
      "    \"optimizer\": \"SGD\",\n",
      "    \"scheduler\": \"plateau\",\n",
      "    \"epochs\": 1,\n",
      "    \"learning_rate\": 0.01,\n",
      "    \"batch_size\": 64,\n",
      "    \"accumulation_steps\": 1,\n",
      "    \"random_seed\": 777,\n",
      "    \"workers\": 8,\n",
      "    \"multigpu\": false,\n",
      "    \"tags\": [\n",
      "        \"FungiTastic-M-CloseSet\",\n",
      "        \"224x224\",\n",
      "        \"Convolutional\"\n",
      "    ],\n",
      "    \"root_path\": \"../\",\n",
      "    \"run_name\": \"resnet18.a1_in1k-CrossEntropyLoss-light\",\n",
      "    \"exp_name\": \"exp2\",\n",
      "    \"exp_path\": \"../runs/resnet18.a1_in1k-CrossEntropyLoss-light/exp2\"\n",
      "}\n",
      "(fgvc) INFO: Using device: cpu (0)\n",
      "(fgvc) INFO: Device names: \n",
      "(script) INFO: Loading training and validation metadata.\n",
      "(script) INFO: Loaded training metadata. Number of samples: 46842\n",
      "(script) INFO: Loaded validation metadata. Number of samples: 9412\n",
      "(script) INFO: Loaded test metadata. Number of samples: 10738\n",
      "(script) INFO: Creating model, optimizer, and scheduler.\n",
      "model.safetensors: 100%|███████████████████| 46.8M/46.8M [00:04<00:00, 11.4MB/s]\n",
      "(fgvc) DEBUG: Setting new prediction head with random initial weights.\n",
      "Traceback (most recent call last):\n",
      "  File \"/Users/jeremycui/Documents/UCB_MIDS/DATASCI207/fungitastic-classification-datasci207-Fall-2025/baselines/closed_set/train.py\", line 414, in <module>\n",
      "    train_clf()\n",
      "  File \"/Users/jeremycui/Documents/UCB_MIDS/DATASCI207/fungitastic-classification-datasci207-Fall-2025/baselines/closed_set/train.py\", line 295, in train_clf\n",
      "    optimizer, scheduler = get_optimizer_and_scheduler(model, config)\n",
      "                           ^^^^^^^^^^^^^^^^^^^^^^^^^^^^^^^^^^^^^^^^^^\n",
      "  File \"/Users/jeremycui/Documents/UCB_MIDS/DATASCI207/fungitastic-classification-datasci207-Fall-2025/.dataset_demo_venv/lib/python3.12/site-packages/fgvc/utils/experiment.py\", line 480, in get_optimizer_and_scheduler\n",
      "    scheduler = get_scheduler(\n",
      "                ^^^^^^^^^^^^^^\n",
      "  File \"/Users/jeremycui/Documents/UCB_MIDS/DATASCI207/fungitastic-classification-datasci207-Fall-2025/.dataset_demo_venv/lib/python3.12/site-packages/fgvc/core/optimizers.py\", line 86, in get_scheduler\n",
      "    scheduler = reduce_lr_on_plateau(optimizer, *args, **kwargs)\n",
      "                ^^^^^^^^^^^^^^^^^^^^^^^^^^^^^^^^^^^^^^^^^^^^^^^^\n",
      "  File \"/Users/jeremycui/Documents/UCB_MIDS/DATASCI207/fungitastic-classification-datasci207-Fall-2025/.dataset_demo_venv/lib/python3.12/site-packages/fgvc/core/optimizers.py\", line 48, in reduce_lr_on_plateau\n",
      "    return ReduceLROnPlateau(optimizer, \"min\", factor=0.9, patience=1, verbose=True, eps=1e-6)\n",
      "           ^^^^^^^^^^^^^^^^^^^^^^^^^^^^^^^^^^^^^^^^^^^^^^^^^^^^^^^^^^^^^^^^^^^^^^^^^^^^^^^^^^^\n",
      "TypeError: ReduceLROnPlateau.__init__() got an unexpected keyword argument 'verbose'\n"
     ]
    }
   ],
   "source": [
    "!python train.py \\\n",
    "    --train-path \"./metadata/FungiTastic-Mini-Train.csv\" \\\n",
    "    --val-path \"./metadata/FungiTastic-Mini-ClosedSet-Val.csv\" \\\n",
    "    --test-path \"./metadata/FungiTastic-Mini-ClosedSet-Test.csv\" \\\n",
    "    --config-path ./configs/default_config.yaml \\\n",
    "    --cuda-devices $CUDA_DEVICES \\\n",
    "    --wandb-entity $WANDB_ENTITY \\\n",
    "    --wandb-project $WANDB_PROJECT \\\n",
    "    --hfhub-owner $HFHUB_OWNER"
   ]
  },
  {
   "cell_type": "markdown",
   "id": "72af2f9e1431093b",
   "metadata": {},
   "source": [
    "## Running Sweep Training"
   ]
  },
  {
   "cell_type": "markdown",
   "id": "7185ec2b-9868-4c52-b2cb-af65b3640ef4",
   "metadata": {},
   "source": [
    "### Environment variables\n",
    "Select which GPU to use and add your WANDB_ENTITY and WANDB_PROJECT you want to log into etc."
   ]
  },
  {
   "cell_type": "code",
   "execution_count": null,
   "id": "5f8fb95b-24b8-4b77-ad4e-79394fad1259",
   "metadata": {},
   "outputs": [],
   "source": [
    "%env CUDA_DEVICES = \"changethis\"\n",
    "%env WANDB_ENTITY = \"changethis\"\n",
    "%env HFHUB_OWNER = \"changethis\"\n",
    "%env WANDB_PROJECT = \"changethis\"\n",
    "%env TRAIN_METADATA_PATH = ./metadata/FungiTastic-Mini-Train.csv\n",
    "%env VAL_METADATA_PATH = ./metadata/FungiTastic-Mini-ClosedSet-Val.csv\n",
    "%env TEST_METADATA_PATH = ./metadata/FungiTastic-Mini-ClosedSet-Test.csv\n",
    "\n",
    "os.environ[\"CUDA_VISIBLE_DEVICES\"] = os.environ[\"CUDA_DEVICES\"]"
   ]
  },
  {
   "cell_type": "code",
   "execution_count": null,
   "id": "a3e4dad5-1b74-469f-ab41-a8f0ff25e905",
   "metadata": {},
   "outputs": [],
   "source": [
    "!wandb sweep ./sweep_configs/FungiTastic-M-CloseSet-224.yaml"
   ]
  },
  {
   "cell_type": "code",
   "execution_count": null,
   "id": "812990e2-2f66-4a37-a3e9-98497239c31c",
   "metadata": {},
   "outputs": [],
   "source": [
    "!wandb agent <WANDB_ENTITY>/<WANDB_PROJECT>/....."
   ]
  },
  {
   "cell_type": "code",
   "execution_count": null,
   "id": "a0af91b7-94f1-4ddd-a418-523588a249a9",
   "metadata": {
    "tags": []
   },
   "outputs": [],
   "source": []
  }
 ],
 "metadata": {
  "kernelspec": {
   "display_name": ".dataset_demo_venv",
   "language": "python",
   "name": "python3"
  },
  "language_info": {
   "codemirror_mode": {
    "name": "ipython",
    "version": 3
   },
   "file_extension": ".py",
   "mimetype": "text/x-python",
   "name": "python",
   "nbconvert_exporter": "python",
   "pygments_lexer": "ipython3",
   "version": "3.12.11"
  }
 },
 "nbformat": 4,
 "nbformat_minor": 5
}
